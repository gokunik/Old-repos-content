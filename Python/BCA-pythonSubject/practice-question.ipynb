{
 "cells": [
  {
   "cell_type": "code",
   "execution_count": null,
   "source": [],
   "outputs": [],
   "metadata": {}
  },
  {
   "cell_type": "code",
   "execution_count": 1,
   "source": [
    "str=input(\"Enter a string \")\r\n",
    "words = str.split(\" \") \r\n",
    "string =[] \r\n",
    "for word in words: \r\n",
    "    string.insert(0, word) \r\n",
    "\r\n",
    "print(\"String after reverse:\",\" \".join(string)) "
   ],
   "outputs": [
    {
     "output_type": "stream",
     "name": "stdout",
     "text": [
      "Enter a stringhello world\n",
      "String after reverse: world hello\n"
     ]
    }
   ],
   "metadata": {}
  },
  {
   "cell_type": "code",
   "execution_count": 13,
   "source": [
    "str1=input(\"Enter the Character to check : \")\r\n",
    "string =input(\"Enter the String :\")\r\n",
    "\r\n",
    "if string[0:1]==str1 : print(\"Your String Is Accepted it starts from \",str1)\r\n",
    "else : print(\"Incorrect String - first character did not matched\")"
   ],
   "outputs": [
    {
     "output_type": "stream",
     "name": "stdout",
     "text": [
      "Enter the Character to check : h\n",
      "Enter the String :hello world\n",
      "Your String Is Accepted it starts from  h\n"
     ]
    }
   ],
   "metadata": {}
  },
  {
   "cell_type": "code",
   "execution_count": 14,
   "source": [
    "string = input(\"enter the string : \")\r\n",
    "string2 = string[-1:] + string[1:-1] + string[:1]\r\n",
    "print(\"modified string is:\",string2)\r\n"
   ],
   "outputs": [
    {
     "output_type": "stream",
     "name": "stdout",
     "text": [
      "enter the string : hello\n",
      "modified string is: oellh\n"
     ]
    }
   ],
   "metadata": {}
  },
  {
   "cell_type": "code",
   "execution_count": 24,
   "source": [
    "rows=5\r\n",
    "ch = 'a'\r\n",
    "\r\n",
    "for i in range (1,rows+1):\r\n",
    "    for j in range(rows-i):\r\n",
    "        print(' ',end='')\r\n",
    "\r\n",
    "    for k in range(1, i+1):\r\n",
    "        print(ch,end=\"\")\r\n",
    "        ch=ord(ch)+1\r\n",
    "        ch = chr(ch)\r\n",
    "    ch=ord(ch)-1\r\n",
    "    ch = chr(ch)\r\n",
    "    \r\n",
    "    for l in range(1, i):\r\n",
    "        ch=ord(ch)-1\r\n",
    "        ch = chr(ch)\r\n",
    "        print(ch,end=\"\")\r\n",
    "      \r\n",
    "    print()\r\n",
    "    ch='a'"
   ],
   "outputs": [
    {
     "output_type": "stream",
     "name": "stdout",
     "text": [
      "    a\n",
      "   aba\n",
      "  abcba\n",
      " abcdcba\n",
      "abcdedcba\n"
     ]
    }
   ],
   "metadata": {}
  },
  {
   "cell_type": "code",
   "execution_count": 40,
   "source": [
    "string_words = input(\"Enter string\")\r\n",
    "word_list = string_words.split()\r\n",
    "\r\n",
    "word_freq = [word_list.count(n) for n in word_list]\r\n",
    "\r\n",
    "print(\"String:\\n {} \\n\".format(string_words))\r\n",
    "print(\"List:\\n {} \\n\".format(word_list))\r\n",
    "print(\"Frequencies:\\n {}\".format( word_freq))\r\n",
    "print(\"\\n\")\r\n",
    "for i in range(len(word_freq)):\r\n",
    "    print(word_list[i],word_freq[i])"
   ],
   "outputs": [
    {
     "output_type": "stream",
     "name": "stdout",
     "text": [
      "Enter stringhello world hello\n",
      "String:\n",
      " hello world hello \n",
      "\n",
      "List:\n",
      " ['hello', 'world', 'hello'] \n",
      "\n",
      "Frequencies:\n",
      " [2, 1, 2]\n",
      "\n",
      "\n",
      "hello 2\n",
      "world 1\n",
      "hello 2\n"
     ]
    }
   ],
   "metadata": {}
  },
  {
   "cell_type": "code",
   "execution_count": 48,
   "source": [
    "no1=int(input(\"Enter 1 number:\"))\r\n",
    "no2=int(input(\"Enter 2 number:\"))\r\n",
    "no3=int(input(\"Enter 3 number:\"))\r\n",
    "\r\n",
    "combo=[]\r\n",
    "combo.append(no1)\r\n",
    "combo.append(no2)\r\n",
    "combo.append(no3)\r\n",
    "for i in range(0,3):\r\n",
    "    for j in range(0,3):\r\n",
    "        for k in range(0,3):\r\n",
    "            if(i!=j&j!=k&k!=i):\r\n",
    "                print(combo[i],combo[j],combo[k])"
   ],
   "outputs": [
    {
     "output_type": "stream",
     "name": "stdout",
     "text": [
      "Enter 1 number:1\n",
      "Enter 2 number:2\n",
      "Enter 3 number:3\n",
      "1 2 3\n",
      "1 3 2\n",
      "2 1 3\n",
      "2 3 1\n",
      "3 1 2\n",
      "3 2 1\n"
     ]
    }
   ],
   "metadata": {}
  }
 ],
 "metadata": {
  "kernelspec": {
   "display_name": "Python 3",
   "language": "python",
   "name": "python3"
  },
  "language_info": {
   "codemirror_mode": {
    "name": "ipython",
    "version": 3
   },
   "file_extension": ".py",
   "mimetype": "text/x-python",
   "name": "python",
   "nbconvert_exporter": "python",
   "pygments_lexer": "ipython3",
   "version": "3.8.3"
  }
 },
 "nbformat": 4,
 "nbformat_minor": 4
}