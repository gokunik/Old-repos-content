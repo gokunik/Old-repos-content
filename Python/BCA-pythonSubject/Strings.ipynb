{
 "cells": [
  {
   "cell_type": "markdown",
   "metadata": {},
   "source": [
    "# string in python"
   ]
  },
  {
   "cell_type": "code",
   "execution_count": 3,
   "metadata": {},
   "outputs": [
    {
     "name": "stdout",
     "output_type": "stream",
     "text": [
      "Demo Text\n",
      "Demo text\n",
      "demo\n",
      "Text\n",
      "demo\n",
      "Text\n"
     ]
    }
   ],
   "source": [
    "var1 = 'Demo Text'\n",
    "var2 = \"Demo text\"\n",
    "var3  = \"\"\"demo\n",
    "Text\"\"\"\n",
    "var4  = '''demo\n",
    "Text'''\n",
    "\n",
    "print(var1)\n",
    "print(var2)\n",
    "print(var3)\n",
    "print(var4)"
   ]
  },
  {
   "cell_type": "code",
   "execution_count": 14,
   "metadata": {},
   "outputs": [
    {
     "name": "stdout",
     "output_type": "stream",
     "text": [
      "d\n",
      "e\n",
      "m\n",
      "o\n",
      "demo\n",
      "mo\n",
      " te\n"
     ]
    }
   ],
   "source": [
    "var1 = \"demo text\"\n",
    "\n",
    "print(var1[0])\n",
    "print(var1[1])\n",
    "print(var1[2])\n",
    "print(var1[3])\n",
    "\n",
    "\n",
    "print(var1[0:4])# access the range of character \n",
    "print(var1[2:4])\n",
    "print(var1[-5:-2])"
   ]
  },
  {
   "cell_type": "markdown",
   "metadata": {},
   "source": [
    "# strings method"
   ]
  },
  {
   "cell_type": "code",
   "execution_count": 5,
   "metadata": {},
   "outputs": [
    {
     "name": "stdout",
     "output_type": "stream",
     "text": [
      "length of the varstr =  9\n",
      "DEMO TEXT\n",
      "Dema Text\n",
      "['Demo', 'Text']\n",
      "   demo text   \n",
      "demo text\n",
      "demo text\n",
      "True\n",
      "False\n"
     ]
    }
   ],
   "source": [
    "varstr=\"Demo Text\"\n",
    "\n",
    "\n",
    "print(\"length of the varstr = \",len(varstr)) #str() find the lth of the string\n",
    "\n",
    "print(varstr.upper()) # lower() and upper() convert text into lower or upper case\n",
    "\n",
    "print(varstr.replace('o','a')) # replace(chartobechanged, chartobechangedinto)\n",
    "\n",
    "print(varstr.split(\" \")) # split the string according to the given value ex , space , char , - , _ etc\n",
    "\n",
    "varstr= \"   demo text   \"\n",
    "print(varstr)\n",
    "print(varstr.strip()) # remove trailing and leading spaces\n",
    "\n",
    "#string concatination\n",
    "\n",
    "a = \"demo\"\n",
    "b =\" text\"\n",
    "c = a+b\n",
    "print(c)\n",
    "\n",
    "\n",
    "varstr1 = \"I am the New String\"\n",
    "varstr2 = \"New\"\n",
    "\n",
    "check = varstr2 in varstr1 # check whether a string is present in an another string \n",
    "print(check)\n",
    "\n",
    "check = varstr2 not in varstr1 #check whether string is not present in the string\n",
    "print(check)"
   ]
  },
  {
   "cell_type": "markdown",
   "metadata": {},
   "source": [
    "# Some More things to do with strings "
   ]
  },
  {
   "cell_type": "code",
   "execution_count": 35,
   "metadata": {},
   "outputs": [
    {
     "name": "stdout",
     "output_type": "stream",
     "text": [
      " user, your marks 100\n",
      "'welcome' user, you scored 98 marks out of 100\n",
      "welcome user, you scored 98 marks out of 100\n",
      "\n",
      "\n",
      "escape sequence\n",
      "hello\n",
      " World\n",
      "hello\t World\n",
      "'hello' World\n",
      "\"hello\" World\n",
      "'hello' \"world\"\n"
     ]
    }
   ],
   "source": [
    "\n",
    "#Method - Format\n",
    "marks=100\n",
    "user =\" user, your marks {}\"\n",
    "print(user.format(marks))\n",
    "\n",
    "marks=100\n",
    "user =\"'welcome' user, you scored {} marks out of {}\" # {} is used to concatenate \n",
    "print(user.format(98,marks)) # variable can be used in place of static data\n",
    "\n",
    "marks=100\n",
    "marksobt=98\n",
    "user =\"welcome user, you scored {1} marks out of {0}\" # {0} by passing index we can refer to the position of the variable passed in format() \n",
    "print(user.format(marks,marksobt))\n",
    "\n",
    "\n",
    "# escape sequence\n",
    "\n",
    "\n",
    "print(\"\\n\")\n",
    "print(\"escape sequence\")\n",
    "print(\"hello\\n World\")\n",
    "print(\"hello\\t World\")\n",
    "print(\"'hello' World\")\n",
    "print('\"hello\" World')\n",
    "print(\"\\'hello\\' \\\"world\\\"\")\n",
    "\n"
   ]
  }
 ],
 "metadata": {
  "kernelspec": {
   "display_name": "Python 3",
   "language": "python",
   "name": "python3"
  },
  "language_info": {
   "codemirror_mode": {
    "name": "ipython",
    "version": 3
   },
   "file_extension": ".py",
   "mimetype": "text/x-python",
   "name": "python",
   "nbconvert_exporter": "python",
   "pygments_lexer": "ipython3",
   "version": "3.8.3"
  }
 },
 "nbformat": 4,
 "nbformat_minor": 4
}
