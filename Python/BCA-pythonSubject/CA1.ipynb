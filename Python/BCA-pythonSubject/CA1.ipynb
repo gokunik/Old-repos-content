{
 "cells": [
  {
   "cell_type": "markdown",
   "metadata": {},
   "source": [
    "# Question 1.\n",
    "# Write a Python program to generate Fibonacci Series and after that display sum of all no's in Fibonacci series and check that sum is prime or not"
   ]
  },
  {
   "cell_type": "code",
   "execution_count": 9,
   "metadata": {},
   "outputs": [
    {
     "name": "stdout",
     "output_type": "stream",
     "text": [
      "How many terms? :- 5\n",
      "Fibonacci sequence: \n",
      "0\n",
      "1\n",
      "1\n",
      "2\n",
      "3\n",
      "Sum of the numbers of fibonacci Series -  7\n",
      "7 is a prime number\n"
     ]
    }
   ],
   "source": [
    "# ****************************************************************************************************** #\n",
    "# Write a Python program to generate Fibonacci Series and after that display sum of all no's in Fibonacci series\n",
    "\n",
    "terms = int(input(\"How many terms? :- \"))\n",
    "\n",
    "n1 = 0 \n",
    "n2 = 1\n",
    "count = 0\n",
    "ssum=0\n",
    "\n",
    "if terms <= 0:\n",
    "    print(\"Please enter a valid input\")\n",
    "elif terms == 1:\n",
    "    print(\"Fibonacci sequence \",terms,\":\")\n",
    "    print(n1)\n",
    "else:\n",
    "    print(\"Fibonacci sequence: \")\n",
    "    while count < terms:\n",
    "        print(n1)\n",
    "        ssum=ssum+n1\n",
    "        nth = n1 + n2\n",
    "        n1 = n2\n",
    "        n2 = nth\n",
    "        count += 1\n",
    "        \n",
    "print(\"Sum of the numbers of fibonacci Series - \",ssum);\n",
    "\n",
    "#******************************************************************************************************* #\n",
    "# check that sum is prime or not\n",
    "\n",
    "if ssum > 1:\n",
    "    for i in range(2,ssum):   \n",
    "        if (ssum % i) == 0:\n",
    "            print(ssum,\"is not a prime number\")          \n",
    "            break\n",
    "    else:\n",
    "        print(ssum,\"is a prime number\")\n",
    "\n",
    "else:\n",
    "    print(ssum,\"is not a prime number\")"
   ]
  },
  {
   "cell_type": "markdown",
   "metadata": {},
   "source": [
    "# Question 2.\n",
    "# Write a Python program to reverse words in a string."
   ]
  },
  {
   "cell_type": "code",
   "execution_count": 10,
   "metadata": {},
   "outputs": [
    {
     "name": "stdout",
     "output_type": "stream",
     "text": [
      "Enter a string to reverse : hello world\n",
      "world hello\n"
     ]
    }
   ],
   "source": [
    "# reverse a word in a string\n",
    "str1 = input(\"Enter a string to reverse : \")\n",
    "\n",
    "str2 = str1.split(\" \") \n",
    "str2.reverse() \n",
    "result = \" \".join(str2)\n",
    "print(result)"
   ]
  },
  {
   "cell_type": "markdown",
   "metadata": {},
   "source": [
    "# Question 3.\n",
    "\n",
    "# Write a Python program to create an application for product catalog where you have to generate bill amount according to product price"
   ]
  },
  {
   "cell_type": "code",
   "execution_count": 4,
   "metadata": {},
   "outputs": [
    {
     "name": "stdout",
     "output_type": "stream",
     "text": [
      "Please enter your name :Nitesh\n",
      "*************************************************\n",
      "* 20% discount on purchase of rupees 100 or above *\n",
      "*************************************************\n",
      "Welcome Nitesh\n",
      "List of products\n",
      "Press  1  for  coke ( Price -  25  )\n",
      "Press  2  for  uncle Chips ( Price -  24  )\n",
      "Press  3  for  Mountain Dew ( Price -  30  )\n",
      "Press  4  for  Allu Bhujia ( Price -  25  )\n",
      "Press  5  for  Choco Toko ( Price -  20  )\n",
      "Press  6  for  Mango Cookies ( Price -  24  )\n",
      "Enter Quantity : 4\n",
      "\n",
      "\n",
      "Enter your Choice 1\n",
      "Product Purchased coke\n",
      "Total Amount -  25\n",
      "\n",
      "\n",
      "Enter your Choice 1\n",
      "Product Purchased coke\n",
      "Total Amount -  50\n",
      "\n",
      "\n",
      "Enter your Choice 1\n",
      "Product Purchased coke\n",
      "Total Amount -  75\n",
      "\n",
      "\n",
      "Enter your Choice 1\n",
      "Product Purchased coke\n",
      "Total Amount -  100\n",
      "\n",
      "\n",
      "Do you want to add any tip ? press yes/no: no\n",
      "\n",
      "\n",
      "Total Amount   100\n",
      "Discount       20.0\n",
      "tip            0\n",
      "final Amount   80.0\n"
     ]
    }
   ],
   "source": [
    "# product Catalog\n",
    "customer_name = input(\"Please enter your name :\")\n",
    "\n",
    "products = [\"coke\",\"uncle Chips\",\"Mountain Dew\",\"Allu Bhujia\",\"Choco Toko\",\"Mango Cookies\"]\n",
    "products_price = [25,24,30,25,20,24]\n",
    "\n",
    "total=0\n",
    "quantity=0\n",
    "discount=0\n",
    "final_amount=0\n",
    "\n",
    "print(\"*************************************************\")\n",
    "print(\"* 20% discount on purchase of rupees 100 or above *\")\n",
    "print(\"*************************************************\")\n",
    "\n",
    "print(\"Welcome\",customer_name)\n",
    "print(\"List of products\")\n",
    "\n",
    "for i in range(len(products)):\n",
    "    print( \"Press \",i+1,\" for \",products[i] , \"( Price - \",products_price[i],\" )\" )\n",
    "quantity = int(input(\"Enter Quantity : \"))\n",
    "print(\"\\n\")\n",
    "\n",
    "if quantity > 0:\n",
    "    for i in range(1,quantity+1):\n",
    "        no = int(input(\"Enter your Choice \"))\n",
    "        total=total+products_price[no-1]\n",
    "        print(\"Product Purchased :- \",products[no-1])\n",
    "        print(\"Total Amount - \", total)\n",
    "        print(\"\\n\")\n",
    "    if total > 99:\n",
    "        discount= (total / 100) * 20\n",
    "        final_amount=total-discount;    \n",
    "        \n",
    "    choice=input(\"Do you want to add any tip ? press yes/no: \")\n",
    "    if choice==\"yes\" or choice==\"Yes\":\n",
    "        tip=int(input(\"Enter tip amount: \"))\n",
    "        final_amount=total+tip;\n",
    "    else:\n",
    "        tip=0\n",
    "    \n",
    "    print(\"\\n\")\n",
    "    print(\"Total Amount  \", total)\n",
    "    print(\"Discount      \",discount)\n",
    "    print(\"tip           \",tip)\n",
    "    print(\"final Amount  \",final_amount)\n",
    "\n",
    "\n",
    "else:\n",
    "    print(\"Quantity can not be less then 1\")\n",
    "        \n",
    "        \n",
    "\n",
    "\n",
    "\n",
    "\n",
    "    "
   ]
  },
  {
   "cell_type": "code",
   "execution_count": null,
   "metadata": {},
   "outputs": [],
   "source": []
  }
 ],
 "metadata": {
  "kernelspec": {
   "display_name": "Python 3",
   "language": "python",
   "name": "python3"
  },
  "language_info": {
   "codemirror_mode": {
    "name": "ipython",
    "version": 3
   },
   "file_extension": ".py",
   "mimetype": "text/x-python",
   "name": "python",
   "nbconvert_exporter": "python",
   "pygments_lexer": "ipython3",
   "version": "3.8.3"
  }
 },
 "nbformat": 4,
 "nbformat_minor": 4
}
