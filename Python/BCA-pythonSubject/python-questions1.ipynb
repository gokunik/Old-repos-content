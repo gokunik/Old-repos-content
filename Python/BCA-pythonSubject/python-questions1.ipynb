{
 "cells": [
  {
   "cell_type": "markdown",
   "source": [
    "# Name    - Nitesh Khatri"
   ],
   "metadata": {}
  },
  {
   "cell_type": "code",
   "execution_count": 49,
   "source": [
    "# python program to find all the position of a character in a string\r\n",
    "\r\n",
    "\r\n",
    "#Below is the function findall which accept two parameter, one for string and one for character\r\n",
    "def findall(strr,char): \r\n",
    "    found = [] # list to store locations of character if found in the string\r\n",
    "    \r\n",
    "    for i in range(0,len(strr)): # for loop to access which character in the string one by one using index    \r\n",
    "        if string[i] == char:\r\n",
    "            found.append(i+1)\r\n",
    "            # before appending value to the list i is incremented by 1 to store the actuall position of \r\n",
    "            # the character as index start from 0\r\n",
    "        \r\n",
    "    return found # returing the list containing found positions. Empty list will be returned if no match found\r\n",
    "        \r\n",
    "string = input('Enter a string -> ')\r\n",
    "char   = input('Enter the character to find in the list -> ')\r\n",
    "print('\\n')\r\n",
    "\r\n",
    "locations = findall(string,char) # function calling by passing two argument \r\n",
    "    \r\n",
    "if len(locations) == 0: # checking whether list is empty \r\n",
    "    print('Character \\'',char,'\\' is not present in the string \\'',string)\r\n",
    "    \r\n",
    "else: # printing the position is list is not empty\r\n",
    "    print('In string ( '+ string +' ) character ( '+ char +') Is present at the following places -> ')\r\n",
    "    print('Positions -> ', locations)\r\n",
    "        \r\n",
    "    "
   ],
   "outputs": [
    {
     "output_type": "stream",
     "name": "stdout",
     "text": [
      "Enter a string -> Ishika keshwani\n",
      "Enter the character to find in the list -> a\n",
      "\n",
      "\n",
      "In string ( Ishika keshwani ) character ( a) Is present at the following places -> \n",
      "Positions ->  [6, 13]\n"
     ]
    }
   ],
   "metadata": {}
  },
  {
   "cell_type": "code",
   "execution_count": 40,
   "source": [
    "# importing module sys to get the type of exception\r\n",
    "import sys\r\n",
    "\r\n",
    "file1 = open('GenFile.txt','r') # reading numbers from the file\r\n",
    "list1 = file1.readlines() # storing numbers fetched from the file into a list\r\n",
    "file1.close()\r\n",
    "numbers = []\r\n",
    "\r\n",
    "for i in range(0,len(list1)): # loop for traversing each number in the list\r\n",
    "    no = int(list1[i]) # typecasting number from str to int\r\n",
    "    pal = \"\"\r\n",
    "    temp = no\r\n",
    "    rev = 0\r\n",
    "    while temp > 0: # loop for checking whether number is palindrome or not \r\n",
    "        rev = (rev * 10) + (temp % 10)\r\n",
    "        temp = temp // 10\r\n",
    "\r\n",
    "    # storing number with yes or no, where Yes denote a number is palindrome and No denote the negation \r\n",
    "    if rev == no : # if number is palindrome\r\n",
    "        pal = \"Yes\"\r\n",
    "        \r\n",
    "    else: # if number is not palindrome\r\n",
    "        pal = \"No\"\r\n",
    "\r\n",
    "    numbers.append([no,pal]) # number with 'Yes' or 'No' is stored together into a new list\r\n",
    "\r\n",
    "\r\n",
    "try:\r\n",
    "    file2 = open('Paline.txt','w') # opening new file into writing mode \r\n",
    "\r\n",
    "    # writing data into the file line by line \r\n",
    "    file2.write('File Containing  Plaindrome Information \\n\\n  Number  |  palindrome ?\\n')\r\n",
    "    for i in range(0,len(numbers)):\r\n",
    "        file2.write('   %d           %s\\n' %(numbers[i][0],numbers[i][1]))\r\n",
    "\r\n",
    "    \r\n",
    "    \r\n",
    "except Exception as ex: # if some exception occur\r\n",
    "    print('Error Occurred -> ',ex)\r\n",
    "except: # to handle all other errors\r\n",
    "    print('Could not Execute !')\r\n",
    "else: # if no error occur\r\n",
    "    print('Data is successfully written into the file!')\r\n",
    "finally:\r\n",
    "    file2.close()\r\n",
    "    print('Program Execution Done')\r\n"
   ],
   "outputs": [
    {
     "output_type": "stream",
     "name": "stdout",
     "text": [
      "Data is successfully written into the file!\n",
      "Program Execution Done\n"
     ]
    }
   ],
   "metadata": {}
  },
  {
   "cell_type": "code",
   "execution_count": 6,
   "source": [
    "# importing module random to generate a random number\r\n",
    "import random \r\n",
    "\r\n",
    "class ValueTooSmallError(Exception): # custom Exception. raised when value is smaller then the actual number\r\n",
    "    pass\r\n",
    "\r\n",
    "\r\n",
    "class ValueTooLargeError(Exception): # custom Exception. raised when value is larger then the actual number\r\n",
    "    pass\r\n",
    "\r\n",
    "\r\n",
    "no = random.randint(1,20) # generating a random number between 1 to 20 \r\n",
    "turns = 0\r\n",
    "\r\n",
    "print('************* Number Guessing Game ***************** \\n ')\r\n",
    "print('A random number is generated between 1 to 20 ')\r\n",
    "print('All the best \\n\\n')\r\n",
    "while 1: # loop will always be true untill we guess the number correctlly \r\n",
    "    try:\r\n",
    "        turns = turns+1 # counting the number of turns user have taken\r\n",
    "        guessed_no = int(input(\"Enter a number: \"))\r\n",
    "        \r\n",
    "        if guessed_no < no:\r\n",
    "            raise ValueTooSmallError\r\n",
    "             # ValueTooSmallError custom exception is raised if number is smaller the the actual number\r\n",
    "                \r\n",
    "        elif guessed_no > no:\r\n",
    "            raise ValueTooLargeError\r\n",
    "            # ValueTooLargeError custom exception is raised if number is greater then the actual number\r\n",
    "            \r\n",
    "        break # while loop will be breaked when no exception is raised. which means user have guessed the number correctlly\r\n",
    "        \r\n",
    "    except ValueTooSmallError:\r\n",
    "        print('Entered Value is smaller, try again ones more\\n')\r\n",
    "        \r\n",
    "    except ValueTooLargeError:\r\n",
    "        print('Entered Value is larger, try again ones more\\n')\r\n",
    "        \r\n",
    "    except ValueError as ve: # ValueError will be raised if user enter any another datatype in place of int\r\n",
    "        print('Please enter integer! No other type allowed. ', ve,'\\n')\r\n",
    "        \r\n",
    "\r\n",
    "        \r\n",
    "\r\n",
    "print('\\n\\nHurry! you guessed it correct')\r\n",
    "print('You took ',turns,' turns to guess the number')"
   ],
   "outputs": [
    {
     "output_type": "stream",
     "name": "stdout",
     "text": [
      "************* Number Guessing Game ***************** \n",
      " \n",
      "A random number is generated between 1 to 20 \n",
      "All the best \n",
      "\n",
      "\n",
      "Enter a number: 15\n",
      "Entered Value is larger, try again ones more\n",
      "\n",
      "Enter a number: 5\n",
      "Entered Value is smaller, try again ones more\n",
      "\n",
      "Enter a number: 10\n",
      "Entered Value is larger, try again ones more\n",
      "\n",
      "Enter a number: 7\n",
      "Entered Value is larger, try again ones more\n",
      "\n",
      "Enter a number: 6\n",
      "\n",
      "\n",
      "Hurry! you guessed it correct\n",
      "You took  5  turns to guess the number\n"
     ]
    }
   ],
   "metadata": {}
  },
  {
   "cell_type": "code",
   "execution_count": null,
   "source": [],
   "outputs": [],
   "metadata": {}
  }
 ],
 "metadata": {
  "kernelspec": {
   "display_name": "Python 3",
   "language": "python",
   "name": "python3"
  },
  "language_info": {
   "codemirror_mode": {
    "name": "ipython",
    "version": 3
   },
   "file_extension": ".py",
   "mimetype": "text/x-python",
   "name": "python",
   "nbconvert_exporter": "python",
   "pygments_lexer": "ipython3",
   "version": "3.8.3"
  }
 },
 "nbformat": 4,
 "nbformat_minor": 4
}