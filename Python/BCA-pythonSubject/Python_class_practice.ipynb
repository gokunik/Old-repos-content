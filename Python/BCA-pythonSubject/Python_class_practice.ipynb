{
 "cells": [
  {
   "cell_type": "markdown",
   "metadata": {},
   "source": [
    "# Examples"
   ]
  },
  {
   "cell_type": "markdown",
   "metadata": {},
   "source": [
    "## Example - 1 29-07-2020"
   ]
  },
  {
   "cell_type": "code",
   "execution_count": null,
   "metadata": {},
   "outputs": [],
   "source": [
    "# basic print statement\n",
    "print(\"Hello World!\")"
   ]
  },
  {
   "cell_type": "code",
   "execution_count": null,
   "metadata": {},
   "outputs": [],
   "source": [
    "# I am single line comment\n",
    "# How to write comments in Python\n",
    "# suppose there are multiple lines of text\n",
    "# in python and you want to comment\n",
    "# all lines in one go\n",
    "# do we have any short cut ??   "
   ]
  },
  {
   "cell_type": "code",
   "execution_count": null,
   "metadata": {},
   "outputs": [],
   "source": [
    "# Indent is important for us\n",
    "print(\"I am from comment section\")\n",
    "print(\"I am also from comment section\")"
   ]
  },
  {
   "cell_type": "code",
   "execution_count": null,
   "metadata": {},
   "outputs": [],
   "source": [
    "#Multi line comments, is there any way out !\n",
    "'''I am from multi line section\n",
    "Me too\n",
    "Me too'''"
   ]
  },
  {
   "cell_type": "markdown",
   "metadata": {},
   "source": [
    "## Example - 2 30-07-2020"
   ]
  },
  {
   "cell_type": "code",
   "execution_count": null,
   "metadata": {},
   "outputs": [],
   "source": [
    "# how to use variable in python, lets talk about addition of two nums\n",
    "'''\n",
    "int var1, var2, summ;\n",
    "var1=100;\n",
    "var2=200;\n",
    "summ=var1 + var2;\n",
    "printf(\"sum is %d\", summ)\n",
    "'''\n",
    "\n",
    "var1 = 100\n",
    "var2 = 200\n",
    "summ = 0\n",
    "summ= var1 + var2\n",
    "#print(\"Sum is\" + summ) this will generate error because sum is of type string and summ is of type int\n",
    "# op1\n",
    "print(\"Sum is\", summ)\n",
    "#op2\n",
    "print(\"Sum is\", str(summ))"
   ]
  },
  {
   "cell_type": "code",
   "execution_count": null,
   "metadata": {},
   "outputs": [],
   "source": [
    "# can we check what is the type of variable\n",
    "var1=100\n",
    "var2=\"200\"\n",
    "var3=100.5\n",
    "var4=True\n",
    "var5=[\"a\",\"b\",\"c\"]\n",
    "var6=(\"a\",\"b\",\"c\")\n",
    "var7={\"a\",\"b\",\"c\"}\n",
    "var8={\"name\": \"python\",\n",
    "      \"spec\": \"PL\"}\n",
    "\n",
    "print(type(var1))\n",
    "print(type(var2))\n",
    "print(type(var3))\n",
    "print(type(var4))\n",
    "print(type(var5))\n",
    "print(type(var6))\n",
    "print(type(var7))\n",
    "print(type(var8))"
   ]
  },
  {
   "cell_type": "code",
   "execution_count": null,
   "metadata": {},
   "outputs": [],
   "source": [
    "# how to take multiple variables at one time\n",
    "# var1=100\n",
    "# var2=100\n",
    "# var3=100\n",
    "\n",
    "var1=var2=var3=100  # short notation - 1\n",
    "print(var1) #100\n",
    "print(var2) #100\n",
    "print(var3) #100\n",
    "print(\"========\")\n",
    "var1=100\n",
    "var2=200\n",
    "var3=300\n",
    "\n",
    "var1, var2, var3= 100, 200, 300 #shortnotation-2\n",
    "print(var1) #100\n",
    "print(var2) #200\n",
    "print(var3) #300"
   ]
  },
  {
   "cell_type": "markdown",
   "metadata": {},
   "source": [
    "## Example - 3 03-08-2020"
   ]
  },
  {
   "cell_type": "code",
   "execution_count": null,
   "metadata": {},
   "outputs": [],
   "source": [
    "# how to change the type of data or how to set type of data\n",
    "\n",
    "var1=100\n",
    "var2=\"200\"\n",
    "var3=[\"a\",\"b\",\"c\"]\n",
    "var4=(\"a\",\"b\",\"c\")\n",
    "var5=10.7\n",
    "var6=20.7\n",
    "var7=True\n",
    "var8=False\n",
    "\n",
    "print(\"Default Types\")\n",
    "print(var1, type(var1))\n",
    "print(var2, type(var2))\n",
    "print(var3, type(var3))\n",
    "print(var4, type(var4))\n",
    "print(var5, type(var5))\n",
    "print(var6, type(var6))\n",
    "print(var7, type(var7))\n",
    "print(var8, type(var8))\n",
    "\n",
    "var1=str(var1)\n",
    "var2=int(var2)\n",
    "var3=tuple(var3)\n",
    "var4=list(var4)\n",
    "var5=int(var5)\n",
    "var6=str(var6)\n",
    "var7=int(var7)\n",
    "var8=str(var8)\n",
    "\n",
    "print(\"\\nTypes After Updation\")\n",
    "print(var1, type(var1))\n",
    "print(var2, type(var2))\n",
    "print(var3, type(var3))\n",
    "print(var4, type(var4))\n",
    "print(var5, type(var5))\n",
    "print(var6, type(var6))\n",
    "print(var7, type(var7))\n",
    "print(var8, type(var8))"
   ]
  },
  {
   "cell_type": "code",
   "execution_count": null,
   "metadata": {},
   "outputs": [],
   "source": [
    "# different ways to present the data\n",
    "\n",
    "var1=1000.0 # traditional float representation\n",
    "var2=10e2 # variation - 1\n",
    "\n",
    "\n",
    "print(var1, type(var1))\n",
    "print(var2, type(var2))"
   ]
  },
  {
   "cell_type": "code",
   "execution_count": null,
   "metadata": {},
   "outputs": [],
   "source": [
    "# complex numbers\n",
    "var1=10+4j\n",
    "var2=10+4j\n",
    "var3=10\n",
    "\n",
    "print(var1, type(var1))\n",
    "print(var2, type(var2))\n",
    "summ=var1+var2\n",
    "print(summ)\n",
    "\n",
    "print(var3, type(var3))\n",
    "\n",
    "var3=complex(var3) # Accepted !\n",
    "print(var3, type(var3))\n",
    "\n",
    "#var1=int(var1) # TypeError: can't convert complex to int\n"
   ]
  },
  {
   "cell_type": "markdown",
   "metadata": {},
   "source": [
    "## Example - 4 04-08-2020"
   ]
  },
  {
   "cell_type": "code",
   "execution_count": null,
   "metadata": {},
   "outputs": [],
   "source": [
    "# Strings - Introduction - Printing\n",
    "var1 = \"I am the first String\" # printing of string with \"\"\n",
    "\n",
    "var2 = 'I am the second String'  # printing of string with ''\n",
    "\n",
    "var3=\"\"\"I\n",
    "        am\n",
    "        multiline\n",
    "        string\"\"\" # printing of string in multiple line with \"\"\n",
    "\n",
    "var4='''I\n",
    "        am\n",
    "        multiline\n",
    "        string''' # printing of string in multiple line with ''\n",
    "\n",
    "print(var1,type(var1))\n",
    "print(var2,type(var2))\n",
    "print(var3,type(var3))\n",
    "print(var4,type(var4))"
   ]
  },
  {
   "cell_type": "code",
   "execution_count": null,
   "metadata": {},
   "outputs": [],
   "source": [
    "# Strings - Introduction - Accessing as Arrays\n",
    "var1 = \"I am the first String\" #\n",
    "        #012345678910........\n",
    "\n",
    "print(var1[0]) # Strings are represented as Arrays  - char I\n",
    "print(var1[1]) # Strings are represented as Arrays  - char space\n",
    "print(var1[2]) # Strings are represented as Arrays  - char a\n",
    "print(var1[3]) # Strings are represented as Arrays  - char m\n",
    "print(var1[4]) # Strings are represented as Arrays  - char space\n",
    "\n",
    "print(var1[2:4]) # Strings can be printed or accessed upto specific range also am \" Indexing in Strings\"\n",
    "\n",
    "print(var1[2:]) # Strings can be printed or accessed upto specific range also am \n",
    "\n",
    "print(var1[:4]) # Strings can be printed or accessed upto specific range also am \n",
    "\n",
    "print(var1[-4:-2]) # Strings can be printed or accessed upto specific range also ri \"Negative Indexing in Strings\"\n",
    "\n",
    "print(var1[-6:]) # Strings can be printed or accessed upto specific range also String\n",
    "\n",
    "print(var1[:-2]) # Strings can be printed or accessed upto specific range also \"I am the first Stri\""
   ]
  },
  {
   "cell_type": "markdown",
   "metadata": {},
   "source": [
    "## Example - 5 05-08-2020"
   ]
  },
  {
   "cell_type": "code",
   "execution_count": null,
   "metadata": {},
   "outputs": [],
   "source": [
    "# String manipulation methods  len, lower, upper, replace, split\n",
    "\n",
    "varstr = \"I am the new string on new day\"\n",
    "print(\"\\nLength of the entered string is:\",len(varstr)) # to find the length of string entered by the user\n",
    "\n",
    "varstr=\"I Am SECOND oNe\"\n",
    "print(\"\\nString in lowercase is: \",varstr.lower()) # to change the case of string from normal case to lower case\n",
    "\n",
    "varstr=\"I Am third oNe\"\n",
    "print(\"\\nString in uppercase is: \",varstr.upper()) # to change the case of string from normal case to upper case\n",
    "\n",
    "varstr=\"I am fourth in a row\"\n",
    "chartobechanged=\"a\"\n",
    "chartobechangedto=\"z\"\n",
    "print(\"\\nNew String is: \",varstr.replace(chartobechanged,chartobechangedto)) # to replace particular char with new one\n",
    "#print(\"\\nNew String is: \",varstr.replace(\"a\",\"z\")) # to replace char \"a\" with \"z\"\n",
    "\n",
    "varstr=\"Here, I come as a 5th, string\"\n",
    "print(varstr)\n",
    "print(\"\\nSplitted string is: \",varstr.split(\",\")) # , space, normal char --> used to split main string into sub strings\n",
    "\n",
    "varstr=\"    Here, I come as a 6th, string   \"\n",
    "print(varstr, len(varstr))\n",
    "varstr=varstr.strip() # to remove any space in beginning and at the end of string\n",
    "print(varstr,len(varstr))\n"
   ]
  },
  {
   "cell_type": "markdown",
   "metadata": {},
   "source": [
    "## Example - 6 06-08-2020"
   ]
  },
  {
   "cell_type": "code",
   "execution_count": null,
   "metadata": {},
   "outputs": [],
   "source": [
    "# String manipulation methods - 2\n",
    "\n",
    "varstr1 = \"I am the new string\"\n",
    "varstr2 = \"on new day\"\n",
    "finalstring=varstr1 + varstr2\n",
    "print(\"\\nConcatenated string is:\", finalstring) # to concatenate two strings\n",
    "\n",
    "\n",
    "varstr3 = \"I am the new string - See you again\"\n",
    "varstr4=\"new\"\n",
    "check=varstr4 in varstr3  # to check whether entered word is present in the string\n",
    "print(check)\n",
    "\n",
    "varstr3 = \"I am the new string - See you again\"\n",
    "varstr4=\"NEW\"  # NEW is not equal to new\n",
    "check=varstr4 not in varstr3  # to check whether entered word is not present in the string\n",
    "print(check)"
   ]
  },
  {
   "cell_type": "code",
   "execution_count": null,
   "metadata": {},
   "outputs": [],
   "source": [
    "# Tuples , Introduction\n",
    "\n",
    "firsttuple=(\"a\",\"b\",\"a\") # basic tuple\n",
    "print(firsttuple)\n",
    "\n",
    "print(firsttuple[1]) # accessing tuple by its positive index ( from left to right)\n",
    "\n",
    "print(firsttuple[-1]) # accessing tuple by its negative index ( from right to left)\n",
    "\n",
    "print(firsttuple[0:2]) # accessing tuple by its range\n",
    "\n",
    "\n",
    "findele=\"a\" # trying to find element b in the Tuple\n",
    "srch=firsttuple.index(findele) # Search is based on its index\n",
    "print(srch) # print results - index\n",
    "\n",
    "\n",
    "findele=\"da\" # trying to find element da in the Tuple which is not present\n",
    "#srch=firsttuple.index(findele) # Search is based on its index\n",
    "#print(srch) # print results - value error\n",
    "\n",
    "findele=\"a\" # trying to find element a in the Tuple which is present at 2 locations\n",
    "srch=firsttuple.index(findele) # Search is based on its index\n",
    "print(srch) # print results - index\n"
   ]
  },
  {
   "cell_type": "markdown",
   "metadata": {},
   "source": [
    "## Example - 7 10-08-2020"
   ]
  },
  {
   "cell_type": "code",
   "execution_count": null,
   "metadata": {},
   "outputs": [],
   "source": [
    "## Operators - Arithmetic\n",
    "\n",
    "#way 1\n",
    "\n",
    "# v1=input('enter first no.')\n",
    "# v2=input('enter second no.')\n",
    "# print(int(v1)+int(v2))\n",
    "\n",
    "#way 2\n",
    "a= int(input(\"Enter First Number \"))\n",
    "b= int(input(\"Enter Second Number \"))\n",
    "\n",
    "# arithmetic operations\n",
    "c= a+b\n",
    "d= a*b\n",
    "e= b-a\n",
    "f= a/b\n",
    "g= a%b\n",
    "h= a**b\n",
    "i= a//b\n",
    "\n",
    "#print(\"Sum of\",a,\"and\",b,\"is\",c) \n",
    "\n",
    "print(\"Sum of {} and {} is {}\".format(a,b,c))\n",
    "print(\"Multiplication of {} and {} is {}\".format(a,b,d))\n",
    "print(\"Subtraction of {} and {} is {}\".format(a,b,e))\n",
    "print(\"Division of {} and {} is {}\".format(a,b,f))\n",
    "print(\"Modulus of {} and {} is {}\".format(a,b,g))\n",
    "print(\"Exponentiation of {} and {} is {}\".format(a,b,h))\n",
    "print(\"Floor division of {} and {} is {}\".format(a,b,i))"
   ]
  },
  {
   "cell_type": "code",
   "execution_count": null,
   "metadata": {},
   "outputs": [],
   "source": [
    "# Operators - Assignment\n",
    "\n",
    "var1=int(input(\"enter any number\"))\n",
    "\n",
    "#var1=var1+10\n",
    "var1+=10 #var1=var1 + 10 short notation to perform calculations\n",
    "print(var1)\n",
    "\n",
    "var1-=10 #var1=var1 - 10 short notation to perform calculations\n",
    "print(var1)\n",
    "\n",
    "var1*=10 #var1=var1 * 10 short notation to perform calculations\n",
    "print(var1)\n",
    "\n",
    "var1/=10 #var1=var1 / 10 short notation to perform calculations\n",
    "print(var1)\n",
    "\n",
    "var1%=10 #var1=var1 % 10 short notation to perform calculations\n",
    "print(var1)\n",
    "\n",
    "var1//=10 #var1=var1 // 10 short notation to perform calculations\n",
    "print(var1)"
   ]
  },
  {
   "cell_type": "markdown",
   "metadata": {},
   "source": [
    "## Example - 8 11-08-2020"
   ]
  },
  {
   "cell_type": "code",
   "execution_count": null,
   "metadata": {},
   "outputs": [],
   "source": [
    "# Operators - Assignment Comparison\n",
    "\n",
    "a= int(input(\"Enter First Number: \"))\n",
    "b= int(input(\"Enter Second Number: \"))\n",
    "\n",
    "# ==, >, <, >=, <=, !=\n",
    "\n",
    "print(\"\\nStatus of a==b is\",a==b) # TRUE or FALSE\n",
    "print(\"\\nStatus of a>b is\",a>b) # TRUE or FALSE\n",
    "print(\"\\nStatus of a<b is\",a<b) # TRUE or FALSE\n",
    "print(\"\\nStatus of a>=b is\",a>=b) # TRUE or FALSE\n",
    "print(\"\\nStatus of a<=b is\",a<=b) # TRUE or FALSE\n",
    "print(\"\\nStatus of a!=b is\",a!=b) # TRUE or FALSE\n",
    "\n"
   ]
  },
  {
   "cell_type": "code",
   "execution_count": null,
   "metadata": {},
   "outputs": [],
   "source": [
    "# Operators - Logical Comparison\n",
    "\n",
    "a= int(input(\"Enter value of a: \"))\n",
    "b= int(input(\"Enter value of b: \"))\n",
    "\n",
    "# and, or, not\n",
    "\n",
    "print(\"\\nStatus of and is \",a > b and a < 100 ) # TRUE or FALSE\n",
    "\n",
    "print(\"\\nStatus of or is\",a > b or a < 100) # TRUE or FALSE\n",
    "\n",
    "print(\"\\nStatus of not is\",not(a > b and a < 100)) # TRUE or FALSE\n"
   ]
  },
  {
   "cell_type": "code",
   "execution_count": null,
   "metadata": {},
   "outputs": [],
   "source": [
    "# Operators - Identity specification\n",
    "\n",
    "var_list_1=[\"a\",\"b\",\"c\"]\n",
    "\n",
    "var_list_3=[\"a\",\"b\"]\n",
    "\n",
    "print(var_list_1)\n",
    "#print(var_list_2) this line will generate error \n",
    "print(var_list_3)\n",
    "\n",
    "var_list_2=var_list_1 # var list 2 here is exactly same as list 1 because it is created from list 1 only\n",
    "\n",
    "var_list_3=var_list_2 # var list 2 here is exactly same as list 1 because it is created from list 1 only\n",
    "\n",
    "# is, is not\n",
    "\n",
    "print(var_list_1 is var_list_2) #True\n",
    "\n",
    "print(var_list_2 is not var_list_3) #False # var list 3 is not created from list 1\n",
    "\n",
    "print(var_list_1)\n",
    "print(var_list_2)\n",
    "print(var_list_3)"
   ]
  },
  {
   "cell_type": "code",
   "execution_count": null,
   "metadata": {},
   "outputs": [],
   "source": [
    "# Operators - Membership specification\n",
    "\n",
    "var_list_1=[\"a\",\"b\",\"c\"]\n",
    "\n",
    "var_list_3=[\"a\",\"b\"]\n",
    "\n",
    "print(\"a\" in var_list_1) # we can check whether particular element exists in the list or not\n",
    "\n",
    "print(\"ab\" in var_list_1)  # we can check whether particular element exists in the list or not\n",
    "\n",
    "print(\"a\" not in var_list_1)  # we can check whether particular element does not exist in the list or not\n"
   ]
  },
  {
   "cell_type": "markdown",
   "metadata": {},
   "source": [
    "## Example - 9 12-08-2020"
   ]
  },
  {
   "cell_type": "code",
   "execution_count": null,
   "metadata": {},
   "outputs": [],
   "source": [
    "# Program Flow Control using if, if else\n",
    "\n",
    "a= int(input(\"Enter First Number: \"))\n",
    "b= int(input(\"Enter Second Number: \"))\n",
    "\n",
    "if a > b:\n",
    "    print(\"a is greater than b\") # we are checking if a > b\n",
    "    \n",
    "elif a==b: # short form to write if else ( else if)\n",
    "    print(\"a and b are equal\")\n",
    "    \n",
    "else: # else statement must match with indentation of if statement\n",
    "    print(\"b is greater than a\") # we are not checking anything, if first is not true, this will execute\n",
    "    \n",
    "    \n",
    "#3 combinations\n",
    "#1. a=10, b=20\n",
    "#2. a=20, b=10\n",
    "#3. a=10, b=10"
   ]
  },
  {
   "cell_type": "code",
   "execution_count": null,
   "metadata": {},
   "outputs": [],
   "source": [
    "# Program Flow Control using if, if else - short hand notation - 1\n",
    "\n",
    "a= int(input(\"Enter First Number: \"))\n",
    "b= int(input(\"Enter Second Number: \"))\n",
    "\n",
    "if a > b: print(\"a is greater than b\") # we are checking if a > b"
   ]
  },
  {
   "cell_type": "code",
   "execution_count": null,
   "metadata": {},
   "outputs": [],
   "source": [
    "# Program Flow Control using if, if else - short hand notation - 2\n",
    "\n",
    "a= int(input(\"Enter First Number: \"))\n",
    "b= int(input(\"Enter Second Number: \"))\n",
    "\n",
    "print(\"a is greater than b\") if a > b else print(\"b is greater than a\") # we are checking if a > b"
   ]
  },
  {
   "cell_type": "code",
   "execution_count": null,
   "metadata": {},
   "outputs": [],
   "source": [
    "# Program Flow Control using if, if else - short hand notation - 3\n",
    "\n",
    "a= int(input(\"Enter First Number: \"))\n",
    "b= int(input(\"Enter Second Number: \"))\n",
    "\n",
    "print(\"a is greater than b\") if a > b else print(\"a and b are equal\")  if a == b else print(\"b is greater than a\") "
   ]
  },
  {
   "cell_type": "code",
   "execution_count": null,
   "metadata": {},
   "outputs": [],
   "source": [
    "# Program Flow Control using if, if else - more examples ( for all three numbers as separate inputs)\n",
    "\n",
    "a= int(input(\"Enter First Number: \"))\n",
    "b= int(input(\"Enter Second Number: \"))\n",
    "c= int(input(\"Enter Third Number: \"))\n",
    "\n",
    "# some if statement we can add here to check whether input of a,b and c are equal or not\n",
    "\n",
    "if a >= b and a >= c:\n",
    "    print(\"a is greater than b and c\") # we are checking if a > b\n",
    "    \n",
    "elif b >= a and b >= c: # short form to write if else ( else if)\n",
    "    print(\"b is greater than a and c\")\n",
    "    \n",
    "else: # else statement must match with indentation of if statement\n",
    "    print(\"c is greater than a and b\") # we are not checking \n"
   ]
  },
  {
   "cell_type": "code",
   "execution_count": null,
   "metadata": {},
   "outputs": [],
   "source": [
    "#code provided by Cheki \n",
    "a=int(input(\"Enter the First Number:\"))\n",
    "b=int(input(\"Enter the Second Number:\"))\n",
    "c=int(input(\"Enter the Third Number:\"))\n",
    "\n",
    "if a>b and a>c:\n",
    "    print(\"a is greater than b and c\")\n",
    "\n",
    "elif a==b and a==c:\n",
    "    print(\"a is equal to b and c\")\n",
    "\n",
    "elif a==b and a>c:\n",
    "    print(\"a and b is equal but greater than c\")\n",
    "\n",
    "elif b>c:\n",
    "    print(\"b is greater than a and c\")\n",
    "\n",
    "elif b==c:\n",
    "    print(\"b and c is equal but greater than a\")\n",
    "\n",
    "else:\n",
    "    print(\"c is greater than a and b\")"
   ]
  },
  {
   "cell_type": "markdown",
   "metadata": {},
   "source": [
    "## Example - 10 13-08-2020"
   ]
  },
  {
   "cell_type": "code",
   "execution_count": null,
   "metadata": {},
   "outputs": [],
   "source": [
    "# Program Flow Control using if, if else - cont.. pass\n",
    "\n",
    "a= int(input(\"Enter First Number: \"))\n",
    "b= int(input(\"Enter Second Number: \"))\n",
    "if a > b:\n",
    "    # how to skip the execution of this section i.e. True case\n",
    "    pass\n",
    "else:\n",
    "    print(\"b is greater than a\")\n",
    "    "
   ]
  },
  {
   "cell_type": "code",
   "execution_count": null,
   "metadata": {},
   "outputs": [],
   "source": [
    "# Program Flow Control using if, if else - cont.. nested if \n",
    "\n",
    "a= int(input(\"Enter a: \"))\n",
    "b= int(input(\"Enter b: \"))\n",
    "\n",
    "if a > b:\n",
    "    print(\"a is greater than b\") # we are checking if a > b\n",
    "    \n",
    "    if a > 100: #example of nested if else\n",
    "        print(\"yes, a is greater than 100\") \n",
    "        \n",
    "    else: # else statement must match with indentation of if statement\n",
    "        print(\"no, a is not greater than 100\")\n",
    "        \n",
    "else:\n",
    "    print(\"b is greater than a\")\n",
    "    "
   ]
  },
  {
   "cell_type": "code",
   "execution_count": null,
   "metadata": {},
   "outputs": [],
   "source": [
    "#even or odd by jayant\n",
    "\n",
    "a = int(input(\"Enter any number\"))\n",
    "if a % 2 == 0:\n",
    "    print(\"Even\")\n",
    "else:\n",
    "    print(\"Odd\")\n",
    " "
   ]
  },
  {
   "cell_type": "code",
   "execution_count": null,
   "metadata": {},
   "outputs": [],
   "source": [
    "#code by bharat\n",
    "\n",
    "# no. of classes held\n",
    "# no. of classes attended\n",
    "# percentage of classess attended\n",
    "cls_held=int(input('enter classes held'))\n",
    "cls_attended=int(input('enter classes attended'))\n",
    "if cls_attended <= cls_held:\n",
    "    \n",
    "    p=int((cls_attended/cls_held)*100)\n",
    "    print('percentage is:',p)\n",
    "    if p >=75:\n",
    "        print('u r eligible to write exames')\n",
    "    else:\n",
    "         print('u r not eligible to write exames')\n",
    "            \n",
    "else:\n",
    "    print('attended classes should be less then classes held')"
   ]
  },
  {
   "cell_type": "markdown",
   "metadata": {},
   "source": [
    "## Example - 11 17-08-2020"
   ]
  },
  {
   "cell_type": "code",
   "execution_count": null,
   "metadata": {},
   "outputs": [],
   "source": [
    "# Loops - while - 3 condition, increment/decrement, initial value of loop\n",
    "\n",
    "initial = 1 # initial value\n",
    "while initial < 10: # termination condition\n",
    "    print(initial) # printing of results\n",
    "    initial=initial+1 # increment factor"
   ]
  },
  {
   "cell_type": "code",
   "execution_count": null,
   "metadata": {},
   "outputs": [],
   "source": [
    "# Loops - while - 3 condition, increment/decrement, initial value of loop\n",
    "\n",
    "initial = 10 # initial value\n",
    "while initial > 0: # termination condition\n",
    "    print(initial) # printing of results\n",
    "    initial=initial-1 # decrement factor"
   ]
  },
  {
   "cell_type": "code",
   "execution_count": null,
   "metadata": {},
   "outputs": [],
   "source": [
    "# Loops - while - 3 condition, increment/decrement, initial value of loop\n",
    "\n",
    "initial = 10 # initial value\n",
    "while initial > 0: # termination condition\n",
    "    print(initial) # printing of results - indefinite times"
   ]
  },
  {
   "cell_type": "code",
   "execution_count": null,
   "metadata": {},
   "outputs": [],
   "source": [
    "# Loops - while - 3 , break\n",
    "\n",
    "initial = 1 # initial value\n",
    "while initial <= 10: # termination condition\n",
    "    print(initial) # printing of results\n",
    "    if initial == 5:\n",
    "        break\n",
    "    initial=initial+1 # increment factor"
   ]
  },
  {
   "cell_type": "code",
   "execution_count": null,
   "metadata": {},
   "outputs": [],
   "source": [
    "# Loops - while - 3 , continue\n",
    "\n",
    "initial = 0 # initial value\n",
    "while initial <10: # termination condition\n",
    "    initial=initial+1 # increment factor\n",
    "    if initial == 5:\n",
    "        continue\n",
    "    print(initial)\n",
    "    "
   ]
  },
  {
   "cell_type": "code",
   "execution_count": null,
   "metadata": {},
   "outputs": [],
   "source": [
    "# Loops - while, else\n",
    "\n",
    "initial = 1 # initial value\n",
    "while initial <= 10: # termination condition\n",
    "    print(initial) # printing of results\n",
    "    initial=initial+1 # increment factor\n",
    "else:\n",
    "    print(\"Loop execution completed!!\")"
   ]
  },
  {
   "cell_type": "markdown",
   "metadata": {},
   "source": [
    "## Example - 12 18-08-2020"
   ]
  },
  {
   "cell_type": "code",
   "execution_count": null,
   "metadata": {},
   "outputs": [],
   "source": [
    "# Loops - for  - 3 -> condition, increment/decrement, initial value of loop - v1\n",
    "\n",
    "for initial in range(10):\n",
    "    print(\"initial\") # printing of results"
   ]
  },
  {
   "cell_type": "code",
   "execution_count": null,
   "metadata": {},
   "outputs": [],
   "source": [
    "# Loops - for  - 3 -> condition, increment/decrement, initial value of loop - v2\n",
    "\n",
    "for initial in range(1,10):\n",
    "    print(initial) # printing of results"
   ]
  },
  {
   "cell_type": "code",
   "execution_count": null,
   "metadata": {},
   "outputs": [],
   "source": [
    "# Loops - for  - 3 -> condition, increment/decrement, initial value of loop - v3\n",
    "\n",
    "for initial in range(1,10,2):\n",
    "    print(initial) # printing of results"
   ]
  },
  {
   "cell_type": "code",
   "execution_count": null,
   "metadata": {},
   "outputs": [],
   "source": [
    "# Loops - for  - else\n",
    "for initial in range(1,10,2):\n",
    "    print(initial) # printing of results\n",
    "else:\n",
    "    print(\"execution terminates!!\")"
   ]
  },
  {
   "cell_type": "code",
   "execution_count": null,
   "metadata": {},
   "outputs": [],
   "source": [
    "# Loops - for  - pass\n",
    "\n",
    "for initial in range(1,10,2):\n",
    "    if initial == 7:\n",
    "        pass # skip the printing of 7\n",
    "    else:\n",
    "        print(initial)"
   ]
  },
  {
   "cell_type": "code",
   "execution_count": null,
   "metadata": {},
   "outputs": [],
   "source": [
    "# Loops - for  - break\n",
    "\n",
    "for initial in range(1,10,2):\n",
    "    if initial == 7:\n",
    "        break # stops the execution of loop\n",
    "    else:\n",
    "        print(initial)"
   ]
  },
  {
   "cell_type": "code",
   "execution_count": null,
   "metadata": {},
   "outputs": [],
   "source": [
    "# Loops - for  - collections - ex 1\n",
    "\n",
    "country = [\"IND\", \"USA\", \"PAK\"]\n",
    "\n",
    "for initial in country:\n",
    "    print(initial)"
   ]
  },
  {
   "cell_type": "code",
   "execution_count": null,
   "metadata": {},
   "outputs": [],
   "source": [
    "# Loops - for  - strings - ex 2\n",
    "\n",
    "for initial in \"country\":\n",
    "    print(initial)"
   ]
  },
  {
   "cell_type": "code",
   "execution_count": null,
   "metadata": {},
   "outputs": [],
   "source": [
    "# Loops - for  - using multiple for loops\n",
    "\n",
    "states = [\"PB\", \"KL\"]\n",
    "caps= [\"CHD\", \"TRV\"]\n",
    "\n",
    "for i in states:\n",
    "    for j in caps:\n",
    "        print(i,j)"
   ]
  },
  {
   "cell_type": "markdown",
   "metadata": {},
   "source": [
    "## Example - 13 19-08-2020"
   ]
  },
  {
   "cell_type": "code",
   "execution_count": null,
   "metadata": {},
   "outputs": [],
   "source": [
    "# Revisiting Strings - method - format, v1\n",
    "marksObt=98\n",
    "marksMax=100\n",
    "var1 = \"Great, I have scored {} marks out of {}!\"\n",
    "\n",
    "print(var1.format(marksObt,marksMax)) "
   ]
  },
  {
   "cell_type": "code",
   "execution_count": null,
   "metadata": {},
   "outputs": [],
   "source": [
    "# Revisiting Strings - method - format, v2\n",
    "\n",
    "var1 = \"Great, I have scored {} marks out of {}!\"\n",
    "\n",
    "print(var1.format(98,100)) "
   ]
  },
  {
   "cell_type": "code",
   "execution_count": null,
   "metadata": {},
   "outputs": [],
   "source": [
    "# Revisiting Strings - method - format, v3\n",
    "\n",
    "marksObt=99\n",
    "marksMax=100\n",
    "percen=99.0\n",
    "var1 = \"Great, I have scored {1} marks out of {0} with {2}%\"\n",
    "\n",
    "print(var1.format(marksMax,marksObt,percen)) "
   ]
  },
  {
   "cell_type": "code",
   "execution_count": null,
   "metadata": {},
   "outputs": [],
   "source": [
    "# Revisiting Strings - Escape Sequences \\ backslash \\n \\t \\\\ \\\" \\'\n",
    "\n",
    "marksObt=99\n",
    "marksMax=100\n",
    "percen=99.0\n",
    "var1 = '\"Great Effort\", You have scored {1} marks out of {0} with {2}%\\n' # with single quote\n",
    "\n",
    "var2 = \"\\\"Great \\nEffort\\\", \\tYou have scored {1} marks out of {0} with {2}%\" # with escape sequences\n",
    "\n",
    "print(var1.format(marksMax,marksObt,percen)) \n",
    "print(var2.format(marksMax,marksObt,percen)) "
   ]
  },
  {
   "cell_type": "markdown",
   "metadata": {},
   "source": [
    "## Example - 14 20-08-2020"
   ]
  },
  {
   "cell_type": "code",
   "execution_count": null,
   "metadata": {},
   "outputs": [],
   "source": [
    "# String manipulation methods - find\n",
    "\n",
    "varstr=input(\"Enter the string of your choice: \") # take string input from the user\n",
    "\n",
    "keyword=input(\"Enter the keyword: \") # enter search keyword\n",
    "\n",
    "result=varstr.find(keyword) # use find method to perform search\n",
    "\n",
    "if result==-1: # if keyword is not found, it will return -1 else index of the keyword will be returned\n",
    "    print(\"Keyword not found!!\")\n",
    "else:\n",
    "    print(\"Keyword found at index\",result)"
   ]
  },
  {
   "cell_type": "code",
   "execution_count": null,
   "metadata": {},
   "outputs": [],
   "source": [
    "# String manipulation methods - digit\n",
    "\n",
    "varstr=input(\"Enter the string of your choice: \") # take string input from the user\n",
    "\n",
    "ans=varstr.isdigit()\n",
    "\n",
    "if ans==True: # if keyword is not found, it will return -1 else index of the keyword will be returned\n",
    "    print(\"It's digit based!!\")\n",
    "else:\n",
    "    print(\"It's not a digit based!!\")"
   ]
  },
  {
   "cell_type": "code",
   "execution_count": null,
   "metadata": {},
   "outputs": [],
   "source": [
    "# String manipulation methods - alpha\n",
    "\n",
    "varstr=input(\"Enter the string of your choice: \") # take string input from the user\n",
    "\n",
    "ans=varstr.isalpha()\n",
    "\n",
    "if ans==True: # if keyword is not found, it will return -1 else index of the keyword will be returned\n",
    "    print(\"It's alpha based!!\")\n",
    "else:\n",
    "    print(\"It's not alpha based!!\")"
   ]
  },
  {
   "cell_type": "code",
   "execution_count": null,
   "metadata": {},
   "outputs": [],
   "source": [
    "# String manipulation methods - alpha\n",
    "\n",
    "varstr=input(\"Enter the string of your choice: \") # take string input from the user\n",
    "\n",
    "ans=varstr.isalnum() # a...z or 0...9\n",
    "\n",
    "if ans==True: \n",
    "    print(\"It's alpha numeric based!!\")\n",
    "else:\n",
    "    print(\"It's not alpha numeric based!!\") # if we are going to enter special chars except a..z and 0..9"
   ]
  },
  {
   "cell_type": "code",
   "execution_count": null,
   "metadata": {},
   "outputs": [],
   "source": [
    "# String manipulation methods - startswith\n",
    "\n",
    "varstr=input(\"Enter the string of your choice: \") # take string input from the user\n",
    "key=input(\"Enter the key word:\")\n",
    "ans=varstr.startswith(key) # its going to check the first char of string\n",
    "#ans=varstr.startswith(key,6) # its going to check the string from char available at mentioned index \"6\"\n",
    "\n",
    "if ans==True: \n",
    "    print(\"It's starting with the mentioned key!!\")\n",
    "else:\n",
    "    print(\"It's not starting with the mentioned key!!\") # if we are going to enter special chars except a..z and 0..9"
   ]
  },
  {
   "cell_type": "code",
   "execution_count": null,
   "metadata": {},
   "outputs": [],
   "source": [
    "# String manipulation methods - title\n",
    "\n",
    "varstr=input(\"Enter the string of your choice: \") # take string input from the user\n",
    "\n",
    "ans=varstr.title() #Each word will be changed to its capital form\n",
    "\n",
    "print(ans)\n"
   ]
  },
  {
   "cell_type": "markdown",
   "metadata": {},
   "source": [
    "## Example - 15 24-08-2020"
   ]
  },
  {
   "cell_type": "code",
   "execution_count": null,
   "metadata": {},
   "outputs": [],
   "source": [
    "# Practice programs - 1\n",
    "# Write a python script to find area of circle\n",
    "\n",
    "from math import pi # namespace in python which helps to use in built methods/functions in the code\n",
    "\n",
    "radius=float(input(\"Enter the value of radius: \")) # input to accept radius from user\n",
    "\n",
    "area=pi * radius**2 # short notation for calculation\n",
    "\n",
    "#print(\"Area of circle is\",area) # printing of area on screen\n",
    "\n",
    "print(\"Area of circle is {:.2f}\".format(area)) # printing of area on screen upto 2 decimal places\n"
   ]
  },
  {
   "cell_type": "code",
   "execution_count": null,
   "metadata": {},
   "outputs": [],
   "source": [
    "# Practice programs - 2\n",
    "# Write a python script to print current date time\n",
    "\n",
    "import datetime # namespace containing date time functions\n",
    "current = datetime.datetime.now() # to fetch current date and time\n",
    "print(current) # to print date and time\n",
    "\n",
    "print(current.strftime(\"%Y-%m-%d %H:%M:%S\")) # splitting current date and time into variables\n"
   ]
  },
  {
   "cell_type": "code",
   "execution_count": null,
   "metadata": {},
   "outputs": [],
   "source": [
    "# Practice programs - 3\n",
    "# Write a python script to print repeated entities ( n + nn + nnn + nnnn )\n",
    "\n",
    "# User will input only single digit = 7\n",
    "# 7\n",
    "# 77\n",
    "# 777\n",
    "# 7777\n",
    "\n",
    "# ANS=7+77+777+7777  \n",
    "n=int(input(\"Enter the value of n: \"))\n",
    "\n",
    "n1= int(\"%s\" %n) # first n\n",
    "n2= int(\"%s%s\" %(n,n)) # first nn\n",
    "n3= int(\"%s%s%s\" %(n,n,n)) # first nnn\n",
    "n4= int(\"%s%s%s%s\" %(n,n,n,n)) # first nnnn\n",
    "\n",
    "ans=n1+n2+n3+n4\n",
    "\n",
    "print(ans)\n",
    "\n"
   ]
  },
  {
   "cell_type": "markdown",
   "metadata": {},
   "source": [
    "## Example - 16 25-08-2020"
   ]
  },
  {
   "cell_type": "code",
   "execution_count": null,
   "metadata": {},
   "outputs": [],
   "source": [
    "# # \n",
    "# ask user to input some number\n",
    "# whatever that number is, suppose if user enters 10, we will find the difference of entered number with 50.\n",
    "# if difference is more than 30, we will return the square or double of exact difference of two numbers\n",
    "\n",
    "n=int(input(\"Enter the number of your choice: \"))\n",
    "max=50\n",
    "diff=max-n\n",
    "\n",
    "if diff > 30:\n",
    "    print(\"Difference is \",diff)\n",
    "    print(\"Square of difference is \",diff**2)\n",
    "else:\n",
    "    print(\"Difference is less than 30!, it is {}\".format(diff))\n",
    "    "
   ]
  },
  {
   "cell_type": "code",
   "execution_count": null,
   "metadata": {},
   "outputs": [],
   "source": [
    "# let us try to add three numbers ( user input based), \n",
    "# if all three numbers are not equal, calculate their sum\n",
    "# if all three numbers are equal, then let us return thrice of calculated sum\n",
    "\n",
    "\n",
    "# Example -1, 10, 20, 30 = 60\n",
    "# Example -2, 10, 10, 10 = 30 * 3 = 90\n",
    "\n",
    "a=int(input(\"Enter the number of your choice: \"))\n",
    "b=int(input(\"Enter the number of your choice: \"))\n",
    "c=int(input(\"Enter the number of your choice: \"))\n",
    "\n",
    "summ=a+b+c\n",
    "\n",
    "if a==b==c:\n",
    "    summ=summ * 3\n",
    "    \n",
    "print(\"Ans is {}\".format(summ))\n",
    "    \n"
   ]
  },
  {
   "cell_type": "code",
   "execution_count": null,
   "metadata": {},
   "outputs": [],
   "source": [
    "# take the string input from user, and try to find if it contains any vowel (a,e,i,o,u)\n",
    "\n",
    "# Example -1, correct, yes it contains vowel\n",
    "all_vows='aeiouAEIOU'\n",
    "a=input(\"Enter the string of your choice: \")\n",
    "\n",
    "# m1 if you are going to enter string or single char\n",
    "c=False\n",
    "for ch in a:\n",
    "    if ch in all_vows:\n",
    "        c=True\n",
    "\n",
    "if c == True:\n",
    "    print(\"M1-String contains vowel(s)\")\n",
    "else:\n",
    "    print(\"M1-String does not contain any vowel(s)\")\n",
    "\n",
    "#-------------------------------------------------------\n",
    "    \n",
    "# m2 If you are going to check for single char only\n",
    "if a in all_vows:\n",
    "    print(\"M2-String contains vowel(s)\")\n",
    "else:\n",
    "    print(\"M2-String does not contain any vowel(s)\")\n"
   ]
  },
  {
   "cell_type": "markdown",
   "metadata": {},
   "source": [
    "## Example - 17 26-08-2020"
   ]
  },
  {
   "cell_type": "code",
   "execution_count": null,
   "metadata": {},
   "outputs": [],
   "source": [
    "# Whether a number is even or odd, depending upon whether it is even or odd, suitable message to the user will be displayed\n",
    "\n",
    "# take input of n from user\n",
    "# apply the formula even or odd\n",
    "# print the results\n",
    "\n",
    "#By Jayant\n",
    "# Program To Find Whether The Number is Even or Odd: \n",
    "n = int(input(\"Enter any number: \")) # Enter valid integer number\n",
    "if n>0:\n",
    "    if n % 2 == 0: # Here it is checking the remainder. If it is 0 it will print Even else Odd\n",
    "        print(n,\"is Even\")\n",
    "    else:\n",
    "        print(n,\"is Odd\")\n",
    "else:\n",
    "    print(\"Not a valid input!!\")\n"
   ]
  },
  {
   "cell_type": "code",
   "execution_count": null,
   "metadata": {},
   "outputs": [],
   "source": [
    "# Write a python script to print calendar\n",
    "\n",
    "import calendar # namespace containing calendar functions\n",
    "\n",
    "y = int(input(\"Enter year: \")) # Enter valid year\n",
    "m = int(input(\"Enter month: \")) # Enter valid month\n",
    "\n",
    "print(calendar.month(y,m)) #print calendar\n"
   ]
  },
  {
   "cell_type": "markdown",
   "metadata": {},
   "source": [
    "## Example - 18 27-08-2020"
   ]
  },
  {
   "cell_type": "code",
   "execution_count": null,
   "metadata": {},
   "outputs": [],
   "source": [
    "# How to calculate area of triangle\n",
    "# prime params are base of tr, height of tr.\n",
    "# area = base * height/2\n",
    "\n",
    "base=int(input(\"Enter the value of base: \")) # input for base - int\n",
    "height=int(input(\"Enter the value of height: \")) # input for height - int\n",
    "area = base * height/2 # calculate area\n",
    "print(\"Area is \",area) # print area\n"
   ]
  },
  {
   "cell_type": "code",
   "execution_count": null,
   "metadata": {},
   "outputs": [],
   "source": [
    "# How to calculate (X+Y) * (X+Y)\n",
    "\n",
    "X=int(input(\"Enter the value of X: \")) # input x - int\n",
    "Y=int(input(\"Enter the value of Y: \")) # input y - int\n",
    "print('ans = ''x\\u00b2','+','y\\u00b2','+','2xy')\n",
    "ans = X * X + 2 * X * Y + Y * Y # x sup2\n",
    "print(\"Ans is \",ans)\n"
   ]
  },
  {
   "cell_type": "code",
   "execution_count": null,
   "metadata": {},
   "outputs": [],
   "source": [
    "# First Number by def = 1\n",
    "# Upto what limit you want to find sum = 5\n",
    "# 1+2+3+4+5\n",
    "# print sum of 1.....5\n",
    "sm=0\n",
    "limit=int(input(\"Enter the value of limit: \")) # input for limit - int\n",
    "for i in range(1,limit+1):\n",
    "    sm=sm+i\n",
    "print(\"Sum is \",sm)\n"
   ]
  },
  {
   "cell_type": "markdown",
   "metadata": {},
   "source": [
    "## Assignments- 1 31-08-2020"
   ]
  },
  {
   "cell_type": "markdown",
   "metadata": {},
   "source": [
    "## Example - 19 01-09-2020"
   ]
  },
  {
   "cell_type": "code",
   "execution_count": null,
   "metadata": {},
   "outputs": [],
   "source": [
    "# Program To Take Multiple Inputs in Single Line By Cheki\n",
    "x, y = input(\"Enter any two numbers: \").split()\n",
    "z = int(x) + int(y)\n",
    "print(\"Addition of two numbers is: \",z)"
   ]
  },
  {
   "cell_type": "code",
   "execution_count": null,
   "metadata": {},
   "outputs": [],
   "source": [
    "# Program To Take Multiple Inputs in Single Line By Banuka\n",
    "# x, y = input(\"Enter a two value: \").split()\n",
    "x, y = map(int,input(\"Enter two numbers seperated by space: \").split() )\n",
    "z = x + y\n",
    "print(\"Addition of two numbers is: \",z)"
   ]
  },
  {
   "cell_type": "markdown",
   "metadata": {},
   "source": [
    "## Example - 20 03-09-2020"
   ]
  },
  {
   "cell_type": "code",
   "execution_count": null,
   "metadata": {},
   "outputs": [],
   "source": [
    "# Accept multiple integers and count the numbers also & print the sum by Banuka:\n",
    "num = map(int,input(\"Enter numbers seperated by space: \").split(','))\n",
    "total = 0\n",
    "count = 0\n",
    "for i in num:\n",
    "count = count + 1 # counting the total numbers entered by user\n",
    "total += i # total = total + i\n",
    "print(\"Total numbers entered\",count)\n",
    "print(\"Sum = \",total)"
   ]
  },
  {
   "cell_type": "code",
   "execution_count": null,
   "metadata": {},
   "outputs": [],
   "source": [
    "# Program To Calculate BMI(Body Mass Index)\n",
    "height = float(input(\"Enter the height \"))\n",
    "weight = float(input(\"Enter the weight \"))\n",
    "bmi = round(weight/height**2,2)\n",
    "print(\"BMI:\",bmi)"
   ]
  },
  {
   "cell_type": "code",
   "execution_count": null,
   "metadata": {},
   "outputs": [],
   "source": [
    "# Accept multiple strings and concat the strings by Banuka:\n",
    "num = input(\"Enter numbers seperated by space: \").split(',')\n",
    "total = \"\"\n",
    "for i in num:\n",
    "total = total +\" \"+ i # total = total + i\n",
    "print(\"Sum = \",total)"
   ]
  },
  {
   "cell_type": "markdown",
   "metadata": {},
   "source": [
    "## Example - 21 07-09-2020"
   ]
  },
  {
   "cell_type": "code",
   "execution_count": null,
   "metadata": {},
   "outputs": [],
   "source": [
    "#Intro to Lists\n",
    "simplelist=[\"ele1\",\"ele2\",\"ele3\"] # list to create with 3 elements\n",
    "print(simplelist) # printing of list elements"
   ]
  },
  {
   "cell_type": "code",
   "execution_count": null,
   "metadata": {},
   "outputs": [],
   "source": [
    "#Intro to Lists\n",
    "simplelist=[\"ele1\",\"ele2\",\"ele3\",\"ele1\",\"ele2\",\"ele3\"] # duplicate elements in the list can exits\n",
    "print(simplelist) # printing of list elements"
   ]
  },
  {
   "cell_type": "code",
   "execution_count": null,
   "metadata": {},
   "outputs": [],
   "source": [
    "#Intro to Lists - how to access like arrays\n",
    "simplelist=[\"ele1\",\"ele2\",\"ele3\",\"ele1\",\"ele2\",\"ele3\"] # duplicate elements in the list can exits\n",
    "print(simplelist[0]) # printing of first element in list\n",
    "print(simplelist[5]) # printing of last element in list\n"
   ]
  },
  {
   "cell_type": "code",
   "execution_count": null,
   "metadata": {},
   "outputs": [],
   "source": [
    "#Intro to Lists - list can contain multiple types of data\n",
    "simplelist=[\"ele1\",2,\"ele3\",\"ele1\",\"ele2\",\"ele3\"] # duplicate elements in the list can exits\n",
    "print(type(simplelist[0])) # printing of type of first element in list\n",
    "print(type(simplelist[1])) # printing of type of second element in list\n"
   ]
  },
  {
   "cell_type": "code",
   "execution_count": null,
   "metadata": {},
   "outputs": [],
   "source": [
    "#Intro to Lists - list can contain multiple types of data\n",
    "simplelist=[\"ele1\",\"ele2\",\"ele3\",\"ele1\",\"ele2\",\"ele3\"] # duplicate elements in the list can exits\n",
    "print(simplelist[-1]) # printing of element from last in list\n"
   ]
  },
  {
   "cell_type": "code",
   "execution_count": null,
   "metadata": {},
   "outputs": [],
   "source": [
    "#Intro to Lists - list can contain multiple types of data\n",
    "# print elements from 3rd till 5th in list\n",
    "simplelist=[\"ele1\",\"ele2\",\"ele3\",\"ele1\",\"ele2\",\"ele3\"] \n",
    "print(simplelist[2:5]) # printing of elements as mentioned above\n"
   ]
  },
  {
   "cell_type": "code",
   "execution_count": null,
   "metadata": {},
   "outputs": [],
   "source": [
    "#Intro to Lists - list can contain multiple types of data\n",
    "#print elements from first till 5th in list\n",
    "simplelist=[\"ele1\",\"ele2\",\"ele3\",\"ele4\",\"ele5\",\"ele6\"] \n",
    "print(simplelist[:5]) # printing of elements as mentioned above\n"
   ]
  },
  {
   "cell_type": "code",
   "execution_count": null,
   "metadata": {},
   "outputs": [],
   "source": [
    "#Intro to Lists - list can contain multiple types of data\n",
    "# print elements from 3rd till last in list\n",
    "simplelist=[\"ele1\",\"ele2\",\"ele3\",\"ele4\",\"ele5\",\"ele6\"] \n",
    "print(simplelist[2:]) # printing of elements as mentioned above\n"
   ]
  },
  {
   "cell_type": "code",
   "execution_count": null,
   "metadata": {},
   "outputs": [],
   "source": [
    "# Intro to Lists - list can contain multiple types of data\n",
    "# print elements from 3rd till last in list\n",
    "# for(i=0;i<10;i++) or or for(;;)\n",
    "# list[start:end:step] or list[::]\n",
    "\n",
    "simplelist=[\"ele1\",\"ele2\",\"ele3\",\"ele4\",\"ele5\",\"ele6\",\"ele7\"] \n",
    "print(simplelist[::]) # as simple as print(simplelist)\n",
    "print(simplelist) # as simple as print(simplelist)\n",
    "print(simplelist[::2]) # printing of elements at alternative 2nd location # this is unique\n",
    "print(simplelist[2::]) # as simple as [2:]\n"
   ]
  },
  {
   "cell_type": "markdown",
   "metadata": {},
   "source": [
    "## Example - 22 08-09-2020"
   ]
  },
  {
   "cell_type": "code",
   "execution_count": null,
   "metadata": {},
   "outputs": [],
   "source": [
    "# Intro to Lists - lists are changeable - through index\n",
    "\n",
    "simplelist=[\"ele1\",5,\"ele2\",\"ele3\",\"ele4\",\"ele5\",\"ele6\",\"ele7\"] \n",
    "print(simplelist) # existing list\n",
    "\n",
    "ind=int(input(\"Enter the index value for updation: \")) # value at index 0 or so\n",
    "val=input(\"Enter the value: \") # actual value\n",
    "\n",
    "# some code to replace\n",
    "simplelist[ind]=val\n",
    "\n",
    "# printing of new list - on the basis of input from the user\n",
    "print(simplelist)\n",
    "\n"
   ]
  },
  {
   "cell_type": "code",
   "execution_count": null,
   "metadata": {},
   "outputs": [],
   "source": [
    "# Intro to Lists - lists are changeable - through value\n",
    "\n",
    "simplelist=[\"ele1\",\"ele2\",\"ele3\",\"ele4\",\"ele5\",\"ele6\",\"ele7\"] \n",
    "            #0 1 2 3 4 5 6 \n",
    "print(simplelist) # existing list\n",
    "\n",
    "exisval=input(\"Enter the existing value for updation: \") # must be a existing value \n",
    "# old input - ele2\n",
    "\n",
    "newval=input(\"Enter the new value for updation: \") # any new value\n",
    "# new input - element2\n",
    "\n",
    "# some code to replace\n",
    "if exisval in simplelist: # check whether existing val is in the list or not\n",
    "    ind = simplelist.index(exisval) # it will check the index of existing value in list\n",
    "#    print(ind)\n",
    "    simplelist[ind]=newval # it is going to relace existing value with new one\n",
    "\n",
    "# printing of new list - on the basis of input from the user\n",
    "print(simplelist) # printing of new list\n",
    "\n"
   ]
  },
  {
   "cell_type": "markdown",
   "metadata": {},
   "source": [
    "## Example - 23 09-09-2020"
   ]
  },
  {
   "cell_type": "code",
   "execution_count": null,
   "metadata": {},
   "outputs": [],
   "source": [
    "# Intro to Lists - lists are changeable - through value\n",
    "\n",
    "simplelist=[\"ele1\",\"ele2\",\"ele3\",\"ele4\",\"ele5\",\"ele6\",\"ele7\"] \n",
    "\n",
    "print(simplelist) # printing - way out -1\n",
    "\n",
    "#print elements with the help of loop\n",
    "\n",
    "for ele in simplelist:\n",
    "    print(ele)  # printing - way out -2\n",
    "\n"
   ]
  },
  {
   "cell_type": "code",
   "execution_count": null,
   "metadata": {},
   "outputs": [],
   "source": [
    "# Intro to Lists - adding list elements - cheki\n",
    "\n",
    "num=[10,20,30,40,50,60,70,80,90,100] \n",
    "\n",
    "#summ= 10+20+30+40+50+60+70+80+90+100\n",
    "print(\"List elements are: \" ,num) # printing - way out -1\n",
    "\n",
    "#print elements with the help of loop\n",
    "add=0\n",
    "for i in num:\n",
    "    add=add+i\n",
    "    print(i,add)\n",
    "print(\"Sum of elements is \",add)\n",
    "\n"
   ]
  },
  {
   "cell_type": "code",
   "execution_count": null,
   "metadata": {},
   "outputs": [],
   "source": [
    "# Intro to Lists - adding list elements - at alternative position only by cheki\n",
    "\n",
    "simplelist=[10,20,30,40,50,60,70,80,90,100] \n",
    "            #0, 1, 2, 3, 4, 5, 6, 7, 8, 9\n",
    "    \n",
    "# 10+30+50+70+90 \n",
    "\n",
    "print(\"List elements are: \" ,simplelist[::2])  # print elements at alternative location with gap of 2,\n",
    "#starting from 0th element\n",
    "\n",
    "#print elements with the help of loop\n",
    "add=0\n",
    "for ele in simplelist[::2]:\n",
    "    add=add+ele\n",
    "    \n",
    "print(\"Sum of elements is \",add)\n"
   ]
  },
  {
   "cell_type": "code",
   "execution_count": null,
   "metadata": {},
   "outputs": [],
   "source": [
    "# Intro to Lists - adding list elements - at alternative position only by cheki\n",
    "\n",
    "simplelist=[10,20,30,40,50,60,70,80,90,100] \n",
    "            #0, 1, 2, 3, 4, 5, 6, 7, 8, 9\n",
    "    \n",
    "#   20+40+60+80+100\n",
    "\n",
    "print(\"List elements are: \",simplelist[1::2]) # print elements at alternative location with gap of 2,\n",
    "#starting from element at location 1\n",
    "\n",
    "#print elements with the help of loop\n",
    "add=0\n",
    "for ele in simplelist[1::2]:\n",
    "    add=add+ele\n",
    "    \n",
    "print(\"Sum of elements is \",add)"
   ]
  },
  {
   "cell_type": "code",
   "execution_count": null,
   "metadata": {},
   "outputs": [],
   "source": [
    "# Intro to Lists - length of list\n",
    "\n",
    "simplelist=[10,20,30,40,50,60,70,80,90,100] \n",
    "\n",
    "print(\"No. of elements in list are \",len(simplelist))"
   ]
  },
  {
   "cell_type": "code",
   "execution_count": null,
   "metadata": {},
   "outputs": [],
   "source": [
    "# Intro to Lists - counting no. of occurrences of element in list\n",
    "\n",
    "simplelist=[10,10,10,40,50,60,70,80,90,100] \n",
    "\n",
    "cnt=simplelist.count(10) # to count how many times particular element exits in the list\n",
    "\n",
    "print(\"Element is repeated\",cnt, \"time(s)\")"
   ]
  },
  {
   "cell_type": "markdown",
   "metadata": {},
   "source": [
    "## Example - 24 10-09-2020"
   ]
  },
  {
   "cell_type": "code",
   "execution_count": null,
   "metadata": {},
   "outputs": [],
   "source": [
    "# Intro to Lists - add elements in the list  - last position by default\n",
    "\n",
    "simplelist=[10,20,30,40,50,60,70,80,90,100] # default list\n",
    "newval=int(input(\"Enter the element to add in the list: \")) # input statement to take new ele\n",
    "\n",
    "print(\"existing list \",simplelist)\n",
    "# add new ele in the list\n",
    "simplelist.append(newval)\n",
    "\n",
    "print(\"updated list \",simplelist)"
   ]
  },
  {
   "cell_type": "code",
   "execution_count": null,
   "metadata": {},
   "outputs": [],
   "source": [
    "# Intro to Lists - add elements in the list  - user defined position\n",
    "\n",
    "simplelist=[10,20,30,40,50,60,70,80,90,100] # default list\n",
    "\n",
    "idx=int(input(\"Enter the location: \")) # input statement to take location\n",
    "newval=int(input(\"Enter the element: \")) # input statement to take new ele\n",
    "\n",
    "print(\"existing list \",simplelist)\n",
    "\n",
    "# add new ele in the list at user defined position\n",
    "simplelist.insert(idx,newval)\n",
    "\n",
    "print(\"updated list \",simplelist)"
   ]
  },
  {
   "cell_type": "code",
   "execution_count": null,
   "metadata": {},
   "outputs": [],
   "source": [
    "# Intro to Lists - remove elements in the list\n",
    "\n",
    "simplelist=[10,20,30,40,50,60,70,80,90,100] # default list\n",
    "\n",
    "delval=int(input(\"Enter the element to remove from the list: \")) # input statement to del existing ele\n",
    "\n",
    "print(\"existing list \",simplelist)\n",
    "\n",
    "# remove ele from the list, if it exists\n",
    "simplelist.remove(delval)\n",
    "\n",
    "print(\"updated list \",simplelist)"
   ]
  },
  {
   "cell_type": "code",
   "execution_count": null,
   "metadata": {},
   "outputs": [],
   "source": [
    "# Intro to Lists - remove last element from the list - by default\n",
    "\n",
    "simplelist=[10,20,30,40,50,60,70,80,90,100] # default list\n",
    "\n",
    "#delval=int(input(\"Enter the element to remove from the list: \")) # input statement to del existing ele\n",
    "\n",
    "print(\"existing list \",simplelist)\n",
    "\n",
    "# remove ele from the list, if it exists\n",
    "simplelist.pop()\n",
    "\n",
    "print(\"updated list \",simplelist)"
   ]
  },
  {
   "cell_type": "code",
   "execution_count": null,
   "metadata": {},
   "outputs": [],
   "source": [
    "# Intro to Lists - remove last element from the list - by default\n",
    "\n",
    "simplelist=[10,20,30,40,50,60,70,80,90,100] # default list\n",
    "\n",
    "idx=int(input(\"Enter the location to remove element from the list: \")) # input statement to del existing ele\n",
    "\n",
    "print(\"existing list \",simplelist)\n",
    "\n",
    "# remove ele from the list, if it exists\n",
    "simplelist.pop(idx)\n",
    "\n",
    "print(\"updated list \",simplelist)"
   ]
  },
  {
   "cell_type": "code",
   "execution_count": null,
   "metadata": {},
   "outputs": [],
   "source": [
    "# Intro to Lists - remove all elements from the list\n",
    "\n",
    "simplelist=[10,20,30,40,50,60,70,80,90,100] # default list\n",
    "\n",
    "print(\"existing list \",simplelist)\n",
    "\n",
    "# remove all elements from the list and list itself too\n",
    "del(simplelist)\n",
    "\n",
    "#print(simplelist)"
   ]
  },
  {
   "cell_type": "code",
   "execution_count": null,
   "metadata": {},
   "outputs": [],
   "source": [
    "# Intro to Lists - remove all elements from the list by cheki\n",
    "\n",
    "simplelist=[10,20,30,40,50,60,70,80,90,100] # default list\n",
    "\n",
    "print(\"existing list \",simplelist)\n",
    "\n",
    "# remove all elements from the list and retain EMPTY list\n",
    "simplelist.clear()\n",
    "\n",
    "print(\"Empty list \",simplelist)"
   ]
  },
  {
   "cell_type": "code",
   "execution_count": null,
   "metadata": {},
   "outputs": [],
   "source": [
    "simpleList=[10,20,30,40,50,60,70,80,90,100] #by abhishek\n",
    "print(\"exiting list :\",simpleList)\n",
    "del simpleList[::] # to delete all elements only\n",
    "print(\"updated list :\",simpleList)"
   ]
  },
  {
   "cell_type": "code",
   "execution_count": null,
   "metadata": {},
   "outputs": [],
   "source": [
    "# Deleting all elements using for loop by jayant\n",
    "list1 = [10,20,30,40,50,60,70,80]\n",
    "for i in list1[:]:\n",
    "    list1.remove(i)\n",
    "print(list1)\n",
    "print(\"All elements are deleted and list is empty now\")"
   ]
  },
  {
   "cell_type": "markdown",
   "metadata": {},
   "source": [
    "## Example - 25 14-09-2020"
   ]
  },
  {
   "cell_type": "code",
   "execution_count": null,
   "metadata": {},
   "outputs": [],
   "source": [
    "# Copying all elements from one list to another - first way to do it\n",
    "exislist = [10,20,30,40,50,60,70,80] # to create list\n",
    "print(\"Existing list\", exislist) # to print list\n",
    "\n",
    "listnew=exislist.copy() #copy method of python to copy one list into another\n",
    "\n",
    "print(\"Copied list\",listnew) # printing new list"
   ]
  },
  {
   "cell_type": "code",
   "execution_count": null,
   "metadata": {},
   "outputs": [],
   "source": [
    "# Copying all elements from one list to another - one way to do it, another one - 2nd way to do it\n",
    "exislist = [10,20,30,40,50,60,70,80] # to create list\n",
    "print(\"Existing list\", exislist) # to print list\n",
    "listnew=list(exislist) #copy method of python to copy one list into another\n",
    "print(\"Copied list\",listnew) # printing new list"
   ]
  },
  {
   "cell_type": "code",
   "execution_count": null,
   "metadata": {},
   "outputs": [],
   "source": [
    "# Creating a reference of one list to another - cheki\n",
    "exislist = [10,20,30,40,50,60,70,80] # to create list\n",
    "print(\"Existing list\", exislist) # to print list\n",
    "\n",
    "listnew=exislist #reference method of python from one list to another\n",
    "\n",
    "print(\"Copied list\",listnew) # printing new list"
   ]
  },
  {
   "cell_type": "code",
   "execution_count": null,
   "metadata": {},
   "outputs": [],
   "source": [
    "# Joining of lists - method -1\n",
    "list1 = [10,20,30,40,50,60,70,80] # to create list\n",
    "list2 = [90,100] # to create list\n",
    "\n",
    "print(\"List-1:\", list1) # to print list-1\n",
    "print(\"List-2:\", list2) # to print list-2\n",
    "\n",
    "mergedlist = list1 + list2 # to join two lists, adding all elements together\n",
    "\n",
    "print(\"Merged list:\",mergedlist) # printing of joined list"
   ]
  },
  {
   "cell_type": "code",
   "execution_count": null,
   "metadata": {},
   "outputs": [],
   "source": [
    "# Joining of lists - method -2\n",
    "list1 = [10,20,30,40,50,60,70,80] # to create list\n",
    "list2 = [90,100] # to create list\n",
    "\n",
    "print(\"List-1:\", list1) # to print list-1\n",
    "print(\"List-2:\", list2) # to print list-2\n",
    "\n",
    "for i in list2: # adding elements one by one\n",
    "    list1.append(i) # with the use of append method\n",
    "\n",
    "print(\"Merged list:\",list1) # printing of joined list"
   ]
  },
  {
   "cell_type": "code",
   "execution_count": null,
   "metadata": {},
   "outputs": [],
   "source": [
    "# Joining of lists - method -3\n",
    "list1 = [10,20,30,40,50,60,70,80] # to create list\n",
    "list2 = [90,100] # to create list\n",
    "\n",
    "print(\"List-1:\", list1) # to print list-1\n",
    "print(\"List-2:\", list2) # to print list-2\n",
    "\n",
    "list1.extend(list2) # with the use of append method\n",
    "\n",
    "print(\"Merged list:\",list1) # printing of joined list"
   ]
  },
  {
   "cell_type": "markdown",
   "metadata": {},
   "source": [
    "## Example - 26 22-09-2020"
   ]
  },
  {
   "cell_type": "code",
   "execution_count": null,
   "metadata": {},
   "outputs": [],
   "source": [
    "# To reverese a list in python - by banuka\n",
    "list1 = [10,20,30,40,50,60,70,80] # default list\n",
    "print(\"Original list \",list1) # printing of list contents\n",
    "list1=list1[::-1] # using the concept of indexing to reverse the list\n",
    "print(\"Reversed list \",list1) # printing of list contents"
   ]
  },
  {
   "cell_type": "code",
   "execution_count": null,
   "metadata": {},
   "outputs": [],
   "source": [
    "# To reverese a list in python - by jayant\n",
    "list1 = [10,20,30,40,50,60,70,80]\n",
    "print(\"Original list \",list1) # printing of list contents\n",
    "list1.reverse() # using the concept of inbult method reverse to reverse the list\n",
    "print(\"Reversed list \",list1) # printing of list contents"
   ]
  },
  {
   "cell_type": "code",
   "execution_count": null,
   "metadata": {},
   "outputs": [],
   "source": [
    "# To slice a list, slicing means to divide the list into small segments\n",
    "\n",
    "list1 = [10,20,30,40,50,60,70,80]\n",
    "#index           0,1,2,3,4,5,6,7\n",
    "print(\"Original list \",list1) # printing of list contents\n",
    "\n",
    "# slicing syntax\n",
    "print(list1[0:8:1]) # o/p [10, 20, 30, 40, 50, 60, 70, 80]\n",
    "\n",
    "#slicing will take three arguments [0:8:1]\n",
    "#0 = starting point  would be the starting index of list from where slicing will start\n",
    "#8 = stopping point  would be the last element of list at where slicing will end\n",
    "#1 = stepping point  would be the increment factor of slicing\n",
    "\n"
   ]
  },
  {
   "cell_type": "markdown",
   "metadata": {},
   "source": [
    "## Example - 27 23-09-2020"
   ]
  },
  {
   "cell_type": "code",
   "execution_count": null,
   "metadata": {},
   "outputs": [],
   "source": [
    "# To slice a list, slicing means to divide the list into small segments - example -1\n",
    "\n",
    "list1 = [1,2,3,4,5,6,7,8,9,10]\n",
    "# 1, 3, 5, 7, 9,.... steps = 2\n",
    "# 1, 2, 3, 4, 5,.... steps = 1\n",
    "# 1, 4, 7, .... steps = 3\n",
    "\n",
    "#index   0,1,2,3,4,5,6,7,8,9\n",
    "print(\"Original list is\",list1) # printing of list contents\n",
    "\n",
    "\n",
    "# syntax is [ start : stop : steps]\n",
    "\n",
    "#start is starting point of slicing\n",
    "# stop is slicing of list from start till stop point\n",
    "# steps is slicing by increment or decrement factor\n",
    "\n",
    "\n",
    "# slicing syntax\n",
    "print(\"Sliced list is\",list1[0:8:1]) # o/p [1, 2, 3, 4, 5, 6, 7, 8]\n",
    "print(\"Sliced list is\",list1[1:8:2]) # o/p [2,4,6,8]\n",
    "# 1,3,5,7 by bharat\n",
    "# 2,4,6,8 by jayant, cheki\n",
    "\n",
    "\n",
    "#slicing will take three arguments [0:8:1]\n",
    "#0 = starting point  would be the starting index of list from where slicing will start\n",
    "#8 = stopping point  would be the last element of list at where slicing will end\n",
    "#1 = stepping point  would be the increment factor of slicing\n",
    "\n"
   ]
  },
  {
   "cell_type": "code",
   "execution_count": null,
   "metadata": {},
   "outputs": [],
   "source": [
    "###### To slice a list, slicing means to divide the list into small segments - example -2\n",
    "\n",
    "# take one list and ask user to enter elements of the list of runtime\n",
    "# add all those into list\n",
    "# print the list\n",
    "# sllice the list from element 3rd till last, if it contains elements more than 3\n",
    "\n",
    "list1 = [] # empty list\n",
    "\n",
    "lm=int(input(\"How many elements? \")) # take length of list as input\n",
    "\n",
    "for i in range(0,lm):\n",
    "    var=int(input(\"Enter element: \")) # take input of list elements upto length\n",
    "    list1.append(var) # add elements in list\n",
    "    \n",
    "print(\"Original list is\",list1) # printing of list contents\n",
    "print(\"Length of list is\",lm) # printing of list length\n",
    "\n",
    "if (lm > 3): # if size of list is greater than 3\n",
    "    print(\"Sliced list is\",list1[2:lm:1]) # o/p printing of sliced list\n",
    "else:\n",
    "    print(\"List must have length greater than 3!\")"
   ]
  },
  {
   "cell_type": "markdown",
   "metadata": {},
   "source": [
    "## Example - 28 24-09-2020"
   ]
  },
  {
   "cell_type": "code",
   "execution_count": null,
   "metadata": {},
   "outputs": [],
   "source": [
    "#Introduction of Tuples, it is also a collection like lists - ex-1\n",
    "\n",
    "#simplelist = [1,2,3,4,5,6,7,8,9,10] # list\n",
    "\n",
    "simpletuple = (1, 2, 3, 4, 5, 6, 7, 8, 9, 10) # Tuple - static with integer data\n",
    "\n",
    "print(\"Tuple is\", simpletuple) # printing of tuple elements\n",
    "\n",
    "print(\"Type of data is \",type(simpletuple)) # printing of type\n"
   ]
  },
  {
   "cell_type": "code",
   "execution_count": null,
   "metadata": {},
   "outputs": [],
   "source": [
    "#Introduction of Tuples, it is also a collection like lists - ex-2\n",
    "\n",
    "#simplelist = [1,2,3,4,5,6,7,8,9,10] # list\n",
    "\n",
    "simpletuple = (\"LPU\",\"PUNJAB\") # Tuple - static with string data\n",
    "\n",
    "print(\"Tuple is\", simpletuple) # printing of tuple elements\n",
    "\n",
    "print(\"Type of data is \",type(simpletuple)) # printing of type\n"
   ]
  },
  {
   "cell_type": "code",
   "execution_count": null,
   "metadata": {},
   "outputs": [],
   "source": [
    "#Introduction of Tuples, it is also a collection like lists - ex-3\n",
    "\n",
    "#simplelist = [1,2,3,4,5,6,7,8,9,10] # list\n",
    "\n",
    "simpletuple = (\"LPU\",\"PUNJAB\", 144001) # Tuple - static with different type of data\n",
    "\n",
    "print(\"Tuple is\", simpletuple) # printing of tuple elements\n",
    "\n",
    "print(\"Type of data is \",type(simpletuple)) # printing of type\n"
   ]
  },
  {
   "cell_type": "code",
   "execution_count": null,
   "metadata": {},
   "outputs": [],
   "source": [
    "#Introduction of Tuples, it is also a collection like lists - ex-4 - how to access elements from first position\n",
    "\n",
    "#simplelist = [1,2,3,4,5,6,7,8,9,10] # list\n",
    "\n",
    "simpletuple = (10, 20, 30, 4, 5, 65, 7, 88, 9, 100) # Tuple - static with integer data\n",
    "\n",
    "#print(\"Tuple is\", simpletuple) # printing of tuple elements\n",
    "\n",
    "print(simpletuple) # accessing all elements of tuple\n",
    "print(simpletuple[0]) # accessing one element at a time with index position\n"
   ]
  },
  {
   "cell_type": "code",
   "execution_count": null,
   "metadata": {},
   "outputs": [],
   "source": [
    "#Introduction of Tuples, it is also a collection like lists - ex-4 - how to access elements from last position\n",
    "\n",
    "#simplelist = [1,2,3,4,5,6,7,8,9,10] # list\n",
    "\n",
    "simpletuple = (10, 20, 30, 4, 5, 65, 7, 88, 9, 100) # Tuple - static with integer data\n",
    "\n",
    "print(simpletuple[-1]) # accessing one element at a time with index position\n",
    "\n",
    "print(simpletuple[-2]) # accessing one element at a time with index position\n"
   ]
  },
  {
   "cell_type": "code",
   "execution_count": null,
   "metadata": {},
   "outputs": [],
   "source": [
    "#Introduction of Tuples, it is also a collection like lists - ex-5 - how to access elements with range of indexes\n",
    "\n",
    "#simplelist = [1,2,3,4,5,6,7,8,9,10] # list\n",
    "\n",
    "simpletuple = (10, 20, 30, 40, 50, 60, 70, 80, 90, 100) # Tuple - static with integer data\n",
    "\n",
    "print(simpletuple[0:5]) # accessing bunch of elements with start and end position\n",
    "\n",
    "print(\"Starting from first element\",simpletuple[:5]) # accessing bunch of elements with start and end position\n",
    "\n",
    "#End parameter is 5 ( from first to last)\n",
    "\n",
    "print(\"Starting from last element\",simpletuple[-5:]) # accessing bunch of elements with start and end position\n",
    "\n",
    "#start parameter is -5 ( from last to first)"
   ]
  },
  {
   "cell_type": "code",
   "execution_count": null,
   "metadata": {},
   "outputs": [],
   "source": [
    "#Introduction of Tuples, it is also a collection like lists - ex-6 - how to access elements with range of indexes\n",
    "\n",
    "simpletuple = (10, 20, 30, 40, 50, 60, 70, 80, 90, 100) # Tuple - static with integer data\n",
    "\n",
    "# print the sum of all the elements of tuple ( 10+20+30....+100)\n",
    "# print the sum of all the elements at even index (30+50+70...+100) or\n",
    "# print the sum of all the elements at even index (10+30+50...+100) or\n",
    "summ=0\n",
    "for i in simpletuple:\n",
    "    print(i)\n",
    "    summ=summ+i\n",
    "print(\"Sum of all elements is\",summ)\n",
    "\n",
    "summ=0\n",
    "for i in simpletuple[0:10:2]:\n",
    "    print(i)\n",
    "    summ=summ+i\n",
    "print(\"Sum of all elements at even index is\",summ)\n",
    "\n",
    "#or\n",
    "summ=0\n",
    "for i in simpletuple[2:10:2]:\n",
    "    print(i)\n",
    "    summ=summ+i\n",
    "print(\"Sum of all elements at even index is\",summ)\n"
   ]
  },
  {
   "cell_type": "markdown",
   "metadata": {},
   "source": [
    "## Example - 29 28-09-2020"
   ]
  },
  {
   "cell_type": "code",
   "execution_count": null,
   "metadata": {},
   "outputs": [],
   "source": [
    "#Introduction of Tuples, it is also a collection like lists - ex-7 - how to update elements of tuple\n",
    "\n",
    "simpletuple = (10, 20, 30, 40, 50, 60, 70, 80, 90, 100) # Tuple - static with integer data\n",
    "\n",
    "print(\"Tuple is\",simpletuple)\n",
    "\n",
    "simpletuple[0]=1000 # this line will generate an error because you cannot change tuple once its is defined.\n",
    "\n",
    "print(\"Tuple is\",simpletuple)\n",
    "\n",
    "# diff -1, lists vs tuples\n",
    "#1. list - it is changeable, if its tuple, it is unchangeable\n"
   ]
  },
  {
   "cell_type": "code",
   "execution_count": null,
   "metadata": {},
   "outputs": [],
   "source": [
    "#Introduction of Tuples, it is also a collection like lists - ex-8 - how to update elements of tuple\n",
    "\n",
    "simpletuple = (10, 20, 30, 40, 50, 60, 70, 80, 90, 100) # Tuple - static with integer data\n",
    "\n",
    "print(\"Tuple is\",simpletuple)\n",
    "\n",
    "temp_list=list(simpletuple)\n",
    "\n",
    "temp_list[0]=1000 # this line will not generate an error because you can change list elements.\n",
    "\n",
    "print(\"Temporary list is\",temp_list)\n",
    "\n",
    "simpletuple=tuple(temp_list)\n",
    "\n",
    "print(\"New Tuple is\",simpletuple)\n",
    "\n",
    "print(\"Type of data is\",type(simpletuple))\n",
    "\n"
   ]
  },
  {
   "cell_type": "code",
   "execution_count": null,
   "metadata": {},
   "outputs": [],
   "source": [
    "#Introduction of Tuples, it is also a collection like lists -  how to access tuple elements one by one\n",
    "\n",
    "simpletuple = (10, 20, 30, 40, 50, 60, 70, 80, 90, 100) # Tuple - static with integer data\n",
    "\n",
    "for item in simpletuple:\n",
    "    print(item)\n",
    "\n",
    "\n"
   ]
  },
  {
   "cell_type": "code",
   "execution_count": null,
   "metadata": {},
   "outputs": [],
   "source": [
    "#Introduction of Tuples, it is also a collection like lists -  how to find length of tuple\n",
    "\n",
    "simpletuple = (10, 20, 30, 40, 50, 60, 70, 80, 90, 100) # Tuple - static with integer data\n",
    "\n",
    "print(\"Length is\",len(simpletuple))"
   ]
  },
  {
   "cell_type": "code",
   "execution_count": null,
   "metadata": {},
   "outputs": [],
   "source": [
    "#Introduction of Tuples, it is also a collection like lists -  how to check element in tuple\n",
    "\n",
    "simpletuple = (10, 20, 30, 40, 50, 60, 70, 80, 90, 100) # Tuple - static with integer data\n",
    "\n",
    "if 50 in simpletuple:\n",
    "    print(\"Yes, Exits!\")\n",
    "else:\n",
    "    print(\"Missing!!\")"
   ]
  },
  {
   "cell_type": "code",
   "execution_count": null,
   "metadata": {},
   "outputs": [],
   "source": [
    "#Introduction of Tuples, it is also a collection like lists -  how to delete tuple as you cannot remove elements from a tuple\n",
    "\n",
    "simpletuple = (10, 20, 30, 40, 50, 60, 70, 80, 90, 100) # Tuple - static with integer data\n",
    "\n",
    "del simpletuple # tuple will be deleted\n",
    "\n",
    "#print(simpletuple) # generate an error because tuple is already deleted by line 5."
   ]
  },
  {
   "cell_type": "code",
   "execution_count": null,
   "metadata": {},
   "outputs": [],
   "source": [
    "#Introduction of Tuples, it is also a collection like lists -  how to join tuples\n",
    "\n",
    "simpletuple1 = (10, 20, 30, 40, 50) # Tuple - static with integer data\n",
    "simpletuple2 = (60, 70, 80, 90, 100) # Tuple - static with integer data\n",
    "\n",
    "simpletuple= simpletuple1+simpletuple2 # + operator can be used to join n tuples\n",
    "\n",
    "print(simpletuple) # printing of joined tuple"
   ]
  },
  {
   "cell_type": "markdown",
   "metadata": {},
   "source": [
    "## Example - 30 29-09-2020"
   ]
  },
  {
   "cell_type": "code",
   "execution_count": 10,
   "metadata": {},
   "outputs": [
    {
     "name": "stdout",
     "output_type": "stream",
     "text": [
      "(10, 20, 30, 40, 50, 60, 70, 80, 90, 100)\n",
      "Enter the search element:50\n",
      "Element found at index:  4\n"
     ]
    }
   ],
   "source": [
    "#Introduction of Tuples - with different methods\n",
    "\n",
    "simpletuple = (10, 20, 30, 40, 50, 60, 70, 80, 90, 100) # Tuple - static with integer data\n",
    "\n",
    "print(simpletuple) # printing of tuple\n",
    "\n",
    "ele=int(input(\"Enter the search element:\")) # enter the element to be searched\n",
    "ans=simpletuple.index(ele) # search and return the index of element\n",
    "\n",
    "print(\"Element found at index: \",ans)\n"
   ]
  },
  {
   "cell_type": "code",
   "execution_count": 9,
   "metadata": {},
   "outputs": [
    {
     "name": "stdout",
     "output_type": "stream",
     "text": [
      "(10, 20, 30, 40, 50, 60, 70, 80, 50, 100)\n",
      "Enter the search element:100\n",
      "Element is repeated 1 time(s)\n"
     ]
    }
   ],
   "source": [
    "#Introduction of Tuples - with different methods\n",
    "\n",
    "simpletuple = (10, 20, 30, 40, 50, 60, 70, 80, 50, 100) # Tuple - static with integer data\n",
    "\n",
    "print(simpletuple) # printing of tuple\n",
    "\n",
    "ele=int(input(\"Enter the search element:\")) # enter the element to be searched\n",
    "ans=simpletuple.count(ele) # search and return the no. of occureneces of element\n",
    "\n",
    "print(\"Element is repeated\",ans,\"time(s)\")\n"
   ]
  },
  {
   "cell_type": "code",
   "execution_count": 18,
   "metadata": {},
   "outputs": [
    {
     "name": "stdout",
     "output_type": "stream",
     "text": [
      "{'name': 'LENOVO', 'year': 2020, 'config': 'I7'}\n",
      "<class 'dict'>\n"
     ]
    }
   ],
   "source": [
    "#Introduction of dictionaries  - how to define\n",
    "# info can be represented in the form of KEY-VALUE pairs\n",
    "examdict = {\n",
    "    \"name\": \"LENOVO\",\n",
    "    \"year\": 2020,\n",
    "    \"config\": \"I7\"\n",
    "            }\n",
    "print(examdict)\n",
    "print(type(examdict))"
   ]
  },
  {
   "cell_type": "code",
   "execution_count": 20,
   "metadata": {},
   "outputs": [
    {
     "name": "stdout",
     "output_type": "stream",
     "text": [
      "Name is LENOVO\n",
      "Year is 2020\n",
      "Configuration is I7\n"
     ]
    }
   ],
   "source": [
    "#Introduction of dictionaries - how to access\n",
    "# info can be represented in the form of KEY-VALUE pairs\n",
    "examdict = {\n",
    "    \"name\": \"LENOVO\",\n",
    "    \"year\": 2020,\n",
    "    \"config\": \"I7\"\n",
    "            }\n",
    "print(\"Name is\",examdict[\"name\"]) # to print dict elements - key wise\n",
    "print(\"Year is\",examdict[\"year\"]) # to print dict elements - key wise\n",
    "print(\"Configuration is\",examdict[\"config\"]) # to print dict elements - key wise"
   ]
  },
  {
   "cell_type": "code",
   "execution_count": 21,
   "metadata": {},
   "outputs": [
    {
     "name": "stdout",
     "output_type": "stream",
     "text": [
      "{'name': 'LENOVO', 'year': 2021, 'config': 'I7'}\n"
     ]
    }
   ],
   "source": [
    "#Introduction of dictionaries - how to access\n",
    "# info can be represented in the form of KEY-VALUE pairs\n",
    "examdict = {\n",
    "    \"name\": \"LENOVO\",\n",
    "    \"year\": 2020,\n",
    "    \"config\": \"I7\"\n",
    "            }\n",
    "\n",
    "examdict[\"year\"]=2021 # to update year value with the help of KEY\n",
    "print(examdict) # printing of updated dictionary\n"
   ]
  },
  {
   "cell_type": "code",
   "execution_count": 23,
   "metadata": {},
   "outputs": [
    {
     "name": "stdout",
     "output_type": "stream",
     "text": [
      "Enter the key you want to changeconfig\n",
      "Enter the value you want to change20000\n",
      "{'name': 'LENOVO', 'year': 2020, 'config': '20000'}\n"
     ]
    }
   ],
   "source": [
    "#Introduction of dictionaries - how to update\n",
    "# info can be represented in the form of KEY-VALUE pairs\n",
    "examdict = {\n",
    "    \"name\": \"LENOVO\",\n",
    "    \"year\": 2020,\n",
    "    \"config\": \"I7\"\n",
    "            }\n",
    "\n",
    "whichkey=input(\"Enter the key you want to change\") # take input of key to be updated\n",
    "newval=input(\"Enter the value you want to change\") # take input of value to be updated\n",
    "\n",
    "examdict[whichkey]=newval # to update value with the help of KEY\n",
    "print(examdict) # printing of updated dictionary\n"
   ]
  },
  {
   "cell_type": "code",
   "execution_count": 27,
   "metadata": {},
   "outputs": [
    {
     "name": "stdout",
     "output_type": "stream",
     "text": [
      "Enter the key you want to changemm\n",
      "KEY NOT FOUND!!\n",
      "{'name': 'LENOVO', 'year': 2020, 'config': 'I7'}\n"
     ]
    }
   ],
   "source": [
    "#Introduction of dictionaries - how to update\n",
    "# info can be represented in the form of KEY-VALUE pairs\n",
    "examdict = { # base dictionary\n",
    "    \"name\": \"LENOVO\",\n",
    "    \"year\": 2020,\n",
    "    \"config\": \"I7\"\n",
    "            }\n",
    "\n",
    "whichkey=input(\"Enter the key you want to change\") # take input of key to be updated\n",
    "\n",
    "if whichkey in examdict: #in keyword we can check whether key is present in dictionary or not\n",
    "    newval=input(\"Enter the value you want to change\") # take input of value to be updated\n",
    "    examdict[whichkey]=newval # to update value with the help of KEY\n",
    "else:\n",
    "    print(\"KEY NOT FOUND!!\") # will execute if key is not present \n",
    "    \n",
    "    \n",
    "print(examdict) # printing of updated dictionary\n"
   ]
  },
  {
   "cell_type": "markdown",
   "metadata": {},
   "source": [
    "## Example - 31 30-09-2020"
   ]
  },
  {
   "cell_type": "code",
   "execution_count": 5,
   "metadata": {},
   "outputs": [
    {
     "name": "stdout",
     "output_type": "stream",
     "text": [
      "name\n",
      "year\n",
      "config\n"
     ]
    }
   ],
   "source": [
    "#Introduction of dictionaries - how to access all keys\n",
    "# info can be represented in the form of KEY-VALUE pairs\n",
    "examdict = {\n",
    "    \"name\": \"LENOVO\",\n",
    "    \"year\": 2020,\n",
    "    \"config\": \"I7\"\n",
    "            }\n",
    "\n",
    "for key in examdict: # printing of all keys in dictionary\n",
    "    print(key)\n"
   ]
  },
  {
   "cell_type": "code",
   "execution_count": 6,
   "metadata": {},
   "outputs": [
    {
     "name": "stdout",
     "output_type": "stream",
     "text": [
      "LENOVO\n",
      "2020\n",
      "I7\n"
     ]
    }
   ],
   "source": [
    "#Introduction of dictionaries - how to access all values\n",
    "# info can be represented in the form of KEY-VALUE pairs\n",
    "examdict = {\n",
    "    \"name\": \"LENOVO\",\n",
    "    \"year\": 2020,\n",
    "    \"config\": \"I7\"\n",
    "            }\n",
    "\n",
    "for key in examdict: # printing of all values in dictionary\n",
    "    print(examdict[key])\n"
   ]
  },
  {
   "cell_type": "code",
   "execution_count": 13,
   "metadata": {},
   "outputs": [
    {
     "name": "stdout",
     "output_type": "stream",
     "text": [
      "Method - 1\n",
      "Name: LENOVO\n",
      "Year: 2020\n",
      "Config: I7\n",
      "\n",
      "Method - 2\n",
      "Name: LENOVO\n",
      "Year: 2020\n",
      "Config: I7\n"
     ]
    }
   ],
   "source": [
    "#Introduction of dictionaries - how to access all keys - values pairs\n",
    "# info can be represented in the form of KEY-VALUE pairs\n",
    "examdict = {\n",
    "    \"Name:\": \"LENOVO\",\n",
    "    \"Year:\": 2020,\n",
    "    \"Config:\": \"I7\"\n",
    "            }\n",
    "\n",
    "print(\"Method - 1\")\n",
    "for key in examdict: # printing of all key value pairs in dictionary - ex1\n",
    "    print(key,examdict[key])\n",
    "\n",
    "print(\"\\nMethod - 2\")\n",
    "for key,value in examdict.items(): # printing of all key value pairs in dictionary - ex2\n",
    "    print(key,value)\n",
    "    \n"
   ]
  },
  {
   "cell_type": "code",
   "execution_count": 16,
   "metadata": {},
   "outputs": [
    {
     "name": "stdout",
     "output_type": "stream",
     "text": [
      "Length is 3\n"
     ]
    }
   ],
   "source": [
    "#Introduction of dictionaries - how to find length of dictionary\n",
    "# info can be represented in the form of KEY-VALUE pairs\n",
    "examdict = {\n",
    "    \"Name:\": \"LENOVO\",\n",
    "    \"Year:\": 2020,\n",
    "    \"Config:\": \"I7\"\n",
    "            }\n",
    "\n",
    "print(\"Length is\",len(examdict))"
   ]
  },
  {
   "cell_type": "code",
   "execution_count": 18,
   "metadata": {},
   "outputs": [
    {
     "name": "stdout",
     "output_type": "stream",
     "text": [
      "{'Name:': 'ABC', 'Reg:': 123456}\n"
     ]
    }
   ],
   "source": [
    "#Introduction of dictionaries - how to add items in dictionary\n",
    "# info can be represented in the form of KEY-VALUE pairs\n",
    "studdict = {\n",
    "    \"Name:\": \"ABC\",\n",
    "    \"Reg:\": 123456\n",
    "            }\n",
    "# name, reg, email, phone no, country, gender info, programme, school\n",
    "print(studdict)"
   ]
  },
  {
   "cell_type": "markdown",
   "metadata": {},
   "source": [
    "## Example - 32 01-10-2020"
   ]
  },
  {
   "cell_type": "code",
   "execution_count": 3,
   "metadata": {},
   "outputs": [
    {
     "name": "stdout",
     "output_type": "stream",
     "text": [
      "{'name': 'ABC', 'reg': 12345, 'phoneno': 67890, 'country': 'IND', 'genderinfo': 'M'}\n"
     ]
    }
   ],
   "source": [
    "#Introduction of dictionaries - how to add items in dictionary\n",
    "# info can be represented in the form of KEY-VALUE pairs\n",
    "studdict = {} #blank dictionary\n",
    "\n",
    "# we can create no. of keys as per our requirements\n",
    "studdict[\"name\"]=\"ABC\" # key-1 is name to take the input of student name\n",
    "studdict[\"reg\"]=12345\n",
    "studdict[\"phoneno\"]=67890\n",
    "studdict[\"country\"]=\"IND\"\n",
    "studdict[\"genderinfo\"]=\"M\"\n",
    "\n",
    "print(studdict) # printing of student dictionary "
   ]
  },
  {
   "cell_type": "code",
   "execution_count": 13,
   "metadata": {},
   "outputs": [
    {
     "name": "stdout",
     "output_type": "stream",
     "text": [
      "{'Name': 'ABC', 'Reg': 123456, 'Phoneno': 67890, 'Country': 'IND', 'Genderinfo': 'M'}\n",
      "Enter the key which you want to delete?Phoneno\n",
      "\n",
      "updated dictionary {'Name': 'ABC', 'Reg': 123456, 'Country': 'IND', 'Genderinfo': 'M'}\n"
     ]
    }
   ],
   "source": [
    "#Introduction of dictionaries - how to remove items fron dictionary\n",
    "# info can be represented in the form of KEY-VALUE pairs\n",
    "studdict = {\n",
    "    \"Name\": \"ABC\",\n",
    "    \"Reg\": 123456,\n",
    "    \"Phoneno\":67890,\n",
    "    \"Country\":\"IND\",\n",
    "    \"Genderinfo\":\"M\"\n",
    "            }\n",
    "\n",
    "print(studdict) # printing of student dictionary \n",
    "\n",
    "dele=input(\"Enter the key which you want to delete?\") # ask for user input of key to be deleted\n",
    "\n",
    "if dele in studdict: # will check if key exists in dictionary or not\n",
    "    studdict.pop(dele) # pop to delete key\n",
    "    print(\"key is deleted!\")\n",
    "    print(\"\\nupdated dictionary\",studdict) # printing of updated student dictionary \n",
    "else:\n",
    "    print(\"invalid key!\")\n",
    "\n"
   ]
  },
  {
   "cell_type": "code",
   "execution_count": 14,
   "metadata": {},
   "outputs": [
    {
     "name": "stdout",
     "output_type": "stream",
     "text": [
      "{'Name': 'ABC', 'Reg': 123456, 'Phoneno': 67890, 'Country': 'IND', 'Genderinfo': 'M'}\n"
     ]
    },
    {
     "ename": "NameError",
     "evalue": "name 'studdict' is not defined",
     "output_type": "error",
     "traceback": [
      "\u001b[1;31m---------------------------------------------------------------------------\u001b[0m",
      "\u001b[1;31mNameError\u001b[0m                                 Traceback (most recent call last)",
      "\u001b[1;32m<ipython-input-14-33d6723ce884>\u001b[0m in \u001b[0;36m<module>\u001b[1;34m\u001b[0m\n\u001b[0;32m     13\u001b[0m \u001b[1;32mdel\u001b[0m \u001b[0mstuddict\u001b[0m \u001b[1;31m# to delete complete dictionary\u001b[0m\u001b[1;33m\u001b[0m\u001b[1;33m\u001b[0m\u001b[0m\n\u001b[0;32m     14\u001b[0m \u001b[1;33m\u001b[0m\u001b[0m\n\u001b[1;32m---> 15\u001b[1;33m \u001b[0mprint\u001b[0m\u001b[1;33m(\u001b[0m\u001b[0mstuddict\u001b[0m\u001b[1;33m)\u001b[0m\u001b[1;33m\u001b[0m\u001b[1;33m\u001b[0m\u001b[0m\n\u001b[0m",
      "\u001b[1;31mNameError\u001b[0m: name 'studdict' is not defined"
     ]
    }
   ],
   "source": [
    "#Introduction of dictionaries - how to remove all items fron dictionary\n",
    "# info can be represented in the form of KEY-VALUE pairs\n",
    "studdict = {\n",
    "    \"Name\": \"ABC\",\n",
    "    \"Reg\": 123456,\n",
    "    \"Phoneno\":67890,\n",
    "    \"Country\":\"IND\",\n",
    "    \"Genderinfo\":\"M\"\n",
    "            }\n",
    "\n",
    "print(studdict) # printing of student dictionary \n",
    "\n",
    "del studdict # to delete complete dictionary\n",
    "\n",
    "print(studdict) # will generate an error if dictionary is deleted by line no. 13\n"
   ]
  },
  {
   "cell_type": "code",
   "execution_count": 16,
   "metadata": {},
   "outputs": [
    {
     "name": "stdout",
     "output_type": "stream",
     "text": [
      "Default dictionary {'Name': 'ABC', 'Reg': 123456, 'Phoneno': 67890, 'Country': 'IND', 'Genderinfo': 'M'}\n",
      "Empty dictionary {}\n"
     ]
    }
   ],
   "source": [
    "#Introduction of dictionaries - how to empty dictionary\n",
    "# info can be represented in the form of KEY-VALUE pairs\n",
    "studdict = {\n",
    "    \"Name\": \"ABC\",\n",
    "    \"Reg\": 123456,\n",
    "    \"Phoneno\":67890,\n",
    "    \"Country\":\"IND\",\n",
    "    \"Genderinfo\":\"M\"\n",
    "            }\n",
    "\n",
    "print(\"Default dictionary\",studdict) # printing of student dictionary \n",
    "\n",
    "studdict.clear() # to empty complete dictionary\n",
    "\n",
    "print(\"Empty dictionary\",studdict) # will generate an error if dictionary is deleted by line no. 13\n"
   ]
  },
  {
   "cell_type": "code",
   "execution_count": null,
   "metadata": {},
   "outputs": [],
   "source": [
    "#Introduction of dictionaries - how to add items in dictionary - dynamic way\n",
    "# info can be represented in the form of KEY-VALUE pairs\n",
    "cityinfo = {} #blank dictionary\n",
    "\n",
    "# name of city, state of city, tourist attraction of city,\n",
    "#travel mode, climate conditions, food choice\n",
    "\n",
    "#Flow of program\n",
    "# how may cities you want to enter? 1 or more\n",
    "# what are the parameters you want to take for city? cityname, state, tourist attractions and so on\n",
    "#user must enter the name of city with parameter - cityname\n",
    "# enter the values of selected parameters\n",
    "# print the record of city\n",
    "# ask user again, do you want to enter any new city? if yes, reneter all details, if no, print results and quit\n",
    "\n"
   ]
  }
 ],
 "metadata": {
  "kernelspec": {
   "display_name": "Python 3",
   "language": "python",
   "name": "python3"
  },
  "language_info": {
   "codemirror_mode": {
    "name": "ipython",
    "version": 3
   },
   "file_extension": ".py",
   "mimetype": "text/x-python",
   "name": "python",
   "nbconvert_exporter": "python",
   "pygments_lexer": "ipython3",
   "version": "3.8.3"
  }
 },
 "nbformat": 4,
 "nbformat_minor": 4
}
